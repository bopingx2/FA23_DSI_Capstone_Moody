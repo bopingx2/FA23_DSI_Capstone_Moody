{
 "cells": [
  {
   "cell_type": "code",
   "execution_count": 15,
   "metadata": {},
   "outputs": [],
   "source": [
    "import pandas as pd\n",
    "import numpy as np\n",
    "####\n",
    "\n",
    "Country = \"Hungary\"\n",
    "Country_abbr = \"Hun\" # Pol, Hun\n",
    "text_name = \"7279372069\"+\".txt\"\n",
    "\n",
    "####\n",
    "\n",
    "\n",
    "df = pd.read_csv(\"../data/\" + Country + '_DataFrame.csv')\n",
    "''' Select data frame that ends at 2020-03 '''\n",
    "end_index = None\n",
    "for index in range(len(df)):\n",
    "    if df.iloc[index, 0] == \"2020-03\":\n",
    "        end_index = index\n",
    "        break\n",
    "assert (end_index is not None)\n",
    "\n",
    "\n",
    "''' Scale the data '''\n",
    "def scale_series(series, mean, std):\n",
    "    return (series - mean)/std\n",
    "for col_num in range(1, len(df.columns)):\n",
    "    df.iloc[:, col_num] = scale_series(df.iloc[:, col_num], df.iloc[:end_index+1, col_num ].mean(), df.iloc[:end_index+1, col_num ].std())\n"
   ]
  },
  {
   "cell_type": "code",
   "execution_count": 16,
   "metadata": {},
   "outputs": [],
   "source": [
    "\n",
    "file_path = \"./Output/\" + Country_abbr +\"/corr/\"\n",
    "\n",
    "\n",
    "dict_weight = dict()\n",
    "\n",
    "with open(file_path+text_name, \"r\") as f:\n",
    "    is_Weight = False\n",
    "    line = f.readline()\n",
    "    while len(line.strip()):\n",
    "        if line.strip().startswith(\"_\") or line.strip().startswith(\"-\"):\n",
    "            line = f.readline()\n",
    "            continue\n",
    "        if is_Weight:\n",
    "            \n",
    "            name, weight = line.strip().split(\":\")\n",
    "            name = name.strip()\n",
    "            weight = weight.strip()\n",
    "            weight = float(weight)\n",
    "            dict_weight[name] = weight\n",
    "        else:\n",
    "            if line.startswith(\"Weight\"):\n",
    "                is_Weight = True\n",
    "        line = f.readline()\n"
   ]
  },
  {
   "cell_type": "code",
   "execution_count": 18,
   "metadata": {},
   "outputs": [],
   "source": [
    "\n",
    "df = df[[\"Date\",*dict_weight.keys()]].dropna().reset_index()\n"
   ]
  },
  {
   "cell_type": "code",
   "execution_count": 20,
   "metadata": {},
   "outputs": [],
   "source": [
    "\n",
    "FCI = np.matmul(df[dict_weight.keys()],np.square(list(dict_weight.values())))\n",
    "Date = df[\"Date\"]\n",
    "df_output = pd.DataFrame({\"Date\":Date, \"FCI\":FCI})\n",
    "\n",
    "end_index = None\n",
    "for index in range(len(df)):\n",
    "    if df_output.iloc[index, 0] == \"2020-03\":\n",
    "        end_index = index\n",
    "        break\n",
    "assert (end_index is not None)\n",
    "for col_num in range(1, len(df_output.columns)):\n",
    "    df_output.iloc[:, col_num] = scale_series(df_output.iloc[:, col_num], df_output.iloc[:end_index+1, col_num ].mean(), df_output.iloc[:end_index+1, col_num ].std())\n",
    "\n",
    "df_output.to_csv(\"Output/\" + Country_abbr+\"/FCI.csv\", index = False)\n",
    "df_output.to_csv(\"PCA results for visualization/\"+ Country + \"/FCI.csv\", index = False)\n"
   ]
  }
 ],
 "metadata": {
  "kernelspec": {
   "display_name": "base",
   "language": "python",
   "name": "python3"
  },
  "language_info": {
   "codemirror_mode": {
    "name": "ipython",
    "version": 3
   },
   "file_extension": ".py",
   "mimetype": "text/x-python",
   "name": "python",
   "nbconvert_exporter": "python",
   "pygments_lexer": "ipython3",
   "version": "3.8.15"
  },
  "orig_nbformat": 4
 },
 "nbformat": 4,
 "nbformat_minor": 2
}
