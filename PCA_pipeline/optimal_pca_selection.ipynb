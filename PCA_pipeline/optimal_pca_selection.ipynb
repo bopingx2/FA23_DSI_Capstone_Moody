{
 "cells": [
  {
   "cell_type": "code",
   "execution_count": 1,
   "metadata": {},
   "outputs": [],
   "source": [
    "import os"
   ]
  },
  {
   "cell_type": "code",
   "execution_count": 3,
   "metadata": {},
   "outputs": [
    {
     "name": "stdout",
     "output_type": "stream",
     "text": [
      "Top 5 explained variance values:\n",
      "(0.5304467609827928, '4763518898.txt')\n",
      "(0.5269901613676242, '8897508187.txt')\n",
      "(0.5252731412006995, '9910047512.txt')\n",
      "(0.513595545737209, '5853800028.txt')\n",
      "(0.5111666551957124, '1060919204.txt')\n"
     ]
    }
   ],
   "source": [
    "country_name = 'Nig'\n",
    "folder_path = './Output/' + country_name + '/corr/'\n",
    "corr_txt_files = [file for file in os.listdir(folder_path) if file.endswith('.txt')]\n",
    "\n",
    "top5_explained_variance = [(float('-inf'), None)]*5\n",
    "\n",
    "for txt_file in corr_txt_files:\n",
    "    file_path = os.path.join(folder_path, txt_file)\n",
    "    with open(file_path, 'r') as file:\n",
    "        lines = file.readlines()\n",
    "        explained_variance = float(lines[2].split(':')[1].strip())\n",
    "        \n",
    "        lowest_value, _ = min(top5_explained_variance, key=lambda x: x[0])\n",
    "        if explained_variance > lowest_value:\n",
    "            index_to_replace = top5_explained_variance.index((lowest_value, _))\n",
    "            top5_explained_variance[index_to_replace] = (explained_variance, txt_file)\n",
    "\n",
    "top5_explained_variance = sorted(top5_explained_variance, reverse=True)\n",
    "\n",
    "print(\"Top 5 explained variance values:\")\n",
    "for val in top5_explained_variance:\n",
    "    print(val)\n"
   ]
  },
  {
   "cell_type": "code",
   "execution_count": null,
   "metadata": {},
   "outputs": [],
   "source": []
  }
 ],
 "metadata": {
  "kernelspec": {
   "display_name": "Python 3",
   "language": "python",
   "name": "python3"
  },
  "language_info": {
   "codemirror_mode": {
    "name": "ipython",
    "version": 3
   },
   "file_extension": ".py",
   "mimetype": "text/x-python",
   "name": "python",
   "nbconvert_exporter": "python",
   "pygments_lexer": "ipython3",
   "version": "3.11.4"
  }
 },
 "nbformat": 4,
 "nbformat_minor": 2
}
