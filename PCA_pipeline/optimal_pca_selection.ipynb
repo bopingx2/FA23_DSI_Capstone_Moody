{
 "cells": [
  {
   "cell_type": "code",
   "execution_count": 1,
   "metadata": {},
   "outputs": [],
   "source": [
    "import os\n",
    "import shutil"
   ]
  },
  {
   "cell_type": "code",
   "execution_count": 24,
   "metadata": {},
   "outputs": [
    {
     "name": "stdout",
     "output_type": "stream",
     "text": [
      "Top 50 explained variance values:\n",
      "(0.6344986155829626, '7463879981.txt')\n",
      "(0.5959006566958814, '6782626307.txt')\n",
      "(0.5833485842910762, '8478696126.txt')\n",
      "(0.5344660010624451, '2169551626.txt')\n",
      "(0.5328480583750882, '4563417223.txt')\n",
      "(0.5305569160601252, '4299543998.txt')\n",
      "(0.5162378512533952, '1535196029.txt')\n",
      "(0.5154737016567885, '5778851467.txt')\n",
      "(0.5139888840668799, '8139152600.txt')\n",
      "(0.5088103629453556, '2327598399.txt')\n",
      "(0.5016854968908268, '3297424060.txt')\n",
      "(0.4924418509438199, '3102516582.txt')\n",
      "(0.49097128236733434, '5190346824.txt')\n",
      "(0.4881187083144822, '6399049572.txt')\n",
      "(0.4821912056403124, '7975751859.txt')\n",
      "(0.47885805777363, '8911840666.txt')\n",
      "(0.4706406815490941, '2513058724.txt')\n",
      "(0.4582962028727664, '3168276048.txt')\n",
      "(0.45609877801648496, '3885845165.txt')\n",
      "(0.45317056000014017, '1286368346.txt')\n",
      "(0.4497747499575831, '7809896432.txt')\n",
      "(0.4493420558077252, '4418098471.txt')\n",
      "(0.44729537973706635, '4504937926.txt')\n",
      "(0.44681045234964073, '3522000527.txt')\n",
      "(0.44300414820107675, '3391561084.txt')\n",
      "(0.4421891537634486, '6563582746.txt')\n",
      "(0.43618338264053275, '5544047618.txt')\n",
      "(0.4360721818542371, '9683457244.txt')\n",
      "(0.4359789925324632, '7789474623.txt')\n",
      "(0.43535010321155415, '5874267249.txt')\n",
      "(0.4337774566853454, '5824295369.txt')\n",
      "(0.43322097808900284, '9829665156.txt')\n",
      "(0.43210095725217046, '9496941365.txt')\n",
      "(0.4306114250603121, '7432230799.txt')\n",
      "(0.43025148183543, '9010067946.txt')\n",
      "(0.42844741570302247, '6254662459.txt')\n",
      "(0.42346592468812194, '4470319649.txt')\n",
      "(0.42009089693121276, '2803026067.txt')\n",
      "(0.41475684792549417, '6237979363.txt')\n",
      "(0.4141965302003545, '6727368223.txt')\n",
      "(0.40950752527933953, '3390935385.txt')\n",
      "(0.40317526737979553, '5039260040.txt')\n",
      "(0.40021966090791317, '4304932538.txt')\n",
      "(0.3991676880974574, '2314107525.txt')\n",
      "(0.39437565244584116, '8094393109.txt')\n",
      "(0.3943041416649006, '4954768343.txt')\n",
      "(0.39328172609970297, '8959776489.txt')\n",
      "(0.3927356154386242, '1308797369.txt')\n",
      "(0.3896704550322077, '7655337179.txt')\n",
      "(0.3855246147422002, '6665357715.txt')\n"
     ]
    }
   ],
   "source": [
    "country_name = 'Rom'\n",
    "report_folder_path = './Output/' + country_name + '/corr/'\n",
    "corr_txt_files = [file for file in os.listdir(report_folder_path) if file.endswith('.txt')]\n",
    "\n",
    "top50_explained_variance = [(float('-inf'), None)]*50\n",
    "\n",
    "for txt_file in corr_txt_files:\n",
    "    file_path = os.path.join(report_folder_path, txt_file)\n",
    "    with open(file_path, 'r') as file:\n",
    "        lines = file.readlines()\n",
    "        explained_variance = float(lines[2].split(':')[1].strip())\n",
    "        \n",
    "        lowest_value, _ = min(top50_explained_variance, key=lambda x: x[0])\n",
    "        if explained_variance > lowest_value:\n",
    "            index_to_replace = top50_explained_variance.index((lowest_value, _))\n",
    "            top50_explained_variance[index_to_replace] = (explained_variance, txt_file)\n",
    "\n",
    "top5_explained_variance = sorted(top50_explained_variance, reverse=True)\n",
    "\n",
    "print(\"Top 50 explained variance values:\")\n",
    "for val in top5_explained_variance:\n",
    "    print(val)\n"
   ]
  },
  {
   "cell_type": "code",
   "execution_count": 26,
   "metadata": {},
   "outputs": [],
   "source": [
    "### save top 5 result variance report and corresponding figure in the same folder\n",
    "top50_folder = './Output/' + country_name + '/top50_results'\n",
    "if not os.path.exists(top50_folder):\n",
    "    # If the folder doesn't exist, create it\n",
    "    os.makedirs(top50_folder)\n",
    "\n",
    "figure_folder_path = './Output/' + country_name + '/fig/'\n",
    "top5_report_addr = []\n",
    "top5_figure_addr = []\n",
    "\n",
    "for (_, file_addr) in top50_explained_variance:\n",
    "    top5_report_addr.append(report_folder_path + file_addr)\n",
    "    figure_addr = file_addr.replace('txt', 'jpg')\n",
    "    top5_figure_addr.append(figure_folder_path + figure_addr)\n",
    "\n",
    "for report in top5_report_addr:\n",
    "    shutil.copy(report, top50_folder)\n",
    "\n",
    "for figure in top5_figure_addr:\n",
    "    shutil.copy(figure, top50_folder)\n"
   ]
  }
 ],
 "metadata": {
  "kernelspec": {
   "display_name": "Python 3",
   "language": "python",
   "name": "python3"
  },
  "language_info": {
   "codemirror_mode": {
    "name": "ipython",
    "version": 3
   },
   "file_extension": ".py",
   "mimetype": "text/x-python",
   "name": "python",
   "nbconvert_exporter": "python",
   "pygments_lexer": "ipython3",
   "version": "3.11.4"
  }
 },
 "nbformat": 4,
 "nbformat_minor": 2
}
