{
 "cells": [
  {
   "cell_type": "code",
   "execution_count": 1,
   "metadata": {},
   "outputs": [],
   "source": [
    "import os\n",
    "import shutil"
   ]
  },
  {
   "cell_type": "code",
   "execution_count": 2,
   "metadata": {},
   "outputs": [
    {
     "name": "stdout",
     "output_type": "stream",
     "text": [
      "Top 50 explained variance values:\n",
      "(0.6509195919520752, '7856658033.txt')\n",
      "(0.6132281326996497, '6102922561.txt')\n",
      "(0.6101785357996724, '6641788832.txt')\n",
      "(0.6074564126150911, '7655886247.txt')\n",
      "(0.6036672895313087, '6990338387.txt')\n",
      "(0.6008116520174321, '4580152731.txt')\n",
      "(0.598180216544643, '4357098801.txt')\n",
      "(0.5956211994226833, '7279372069.txt')\n",
      "(0.5852201367912004, '3182201689.txt')\n",
      "(0.5829666431914667, '9006714666.txt')\n",
      "(0.5820089537342542, '4921685168.txt')\n",
      "(0.5751016596728624, '2912332631.txt')\n",
      "(0.5665809473657311, '2697405876.txt')\n",
      "(0.5627155596154976, '4126367175.txt')\n",
      "(0.5585982744834811, '3238903491.txt')\n",
      "(0.5485738896156684, '2911666102.txt')\n",
      "(0.5479185157318835, '7328622382.txt')\n",
      "(0.5415466856457835, '2234085108.txt')\n",
      "(0.5411674615078733, '2441766592.txt')\n",
      "(0.5357750459177286, '6571746823.txt')\n"
     ]
    }
   ],
   "source": [
    "country_name = 'Hun'\n",
    "report_folder_path = './Output/' + country_name + '/corr/'\n",
    "corr_txt_files = [file for file in os.listdir(report_folder_path) if file.endswith('.txt')]\n",
    "\n",
    "top20_explained_variance = [(float('-inf'), None)]*20\n",
    "\n",
    "for txt_file in corr_txt_files:\n",
    "    file_path = os.path.join(report_folder_path, txt_file)\n",
    "    with open(file_path, 'r') as file:\n",
    "        lines = file.readlines()\n",
    "        row_num = 5\n",
    "        while row_num < len(lines) - 2:\n",
    "            weight = float(lines[row_num].split(':')[1].strip())\n",
    "            if abs(weight) < 0.1:\n",
    "                break\n",
    "            row_num += 1\n",
    "        \n",
    "        if row_num != len(lines) - 2:\n",
    "            continue\n",
    "\n",
    "        explained_variance = float(lines[2].split(':')[1].strip())\n",
    "        \n",
    "        lowest_value, _ = min(top20_explained_variance, key=lambda x: x[0])\n",
    "        if explained_variance > lowest_value:\n",
    "            index_to_replace = top20_explained_variance.index((lowest_value, _))\n",
    "            top20_explained_variance[index_to_replace] = (explained_variance, txt_file)\n",
    "\n",
    "top5_explained_variance = sorted(top20_explained_variance, reverse=True)\n",
    "\n",
    "print(\"Top 50 explained variance values:\")\n",
    "for val in top5_explained_variance:\n",
    "    print(val)"
   ]
  },
  {
   "cell_type": "code",
   "execution_count": 3,
   "metadata": {},
   "outputs": [],
   "source": [
    "### save top 5 result variance report and corresponding figure in the same folder\n",
    "top50_folder = './Output/' + country_name + '/top20_results'\n",
    "if not os.path.exists(top50_folder):\n",
    "    # If the folder doesn't exist, create it\n",
    "    os.makedirs(top50_folder)\n",
    "\n",
    "figure_folder_path = './Output/' + country_name + '/fig/'\n",
    "top5_report_addr = []\n",
    "top5_figure_addr = []\n",
    "\n",
    "for (_, file_addr) in top20_explained_variance:\n",
    "    top5_report_addr.append(report_folder_path + file_addr)\n",
    "    figure_addr = file_addr.replace('txt', 'jpg')\n",
    "    top5_figure_addr.append(figure_folder_path + figure_addr)\n",
    "\n",
    "for report in top5_report_addr:\n",
    "    shutil.copy(report, top50_folder)\n",
    "\n",
    "for figure in top5_figure_addr:\n",
    "    shutil.copy(figure, top50_folder)\n"
   ]
  }
 ],
 "metadata": {
  "kernelspec": {
   "display_name": "Python 3",
   "language": "python",
   "name": "python3"
  },
  "language_info": {
   "codemirror_mode": {
    "name": "ipython",
    "version": 3
   },
   "file_extension": ".py",
   "mimetype": "text/x-python",
   "name": "python",
   "nbconvert_exporter": "python",
   "pygments_lexer": "ipython3",
   "version": "3.8.15"
  }
 },
 "nbformat": 4,
 "nbformat_minor": 2
}
