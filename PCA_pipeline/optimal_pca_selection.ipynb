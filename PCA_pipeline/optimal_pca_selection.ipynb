{
 "cells": [
  {
   "cell_type": "code",
   "execution_count": 7,
   "metadata": {},
   "outputs": [],
   "source": [
    "import os\n",
    "import shutil"
   ]
  },
  {
   "cell_type": "code",
   "execution_count": 23,
   "metadata": {},
   "outputs": [
    {
     "name": "stdout",
     "output_type": "stream",
     "text": [
      "Top 5 explained variance values:\n",
      "(0.6068544353774967, '3073314980.txt')\n",
      "(0.6042831822827601, '9739701683.txt')\n",
      "(0.6040507377160778, '3850490111.txt')\n",
      "(0.6034802038031126, '2198189489.txt')\n",
      "(0.6020846092819337, '6099213283.txt')\n"
     ]
    }
   ],
   "source": [
    "country_name = 'Egy'\n",
    "report_folder_path = './Output/' + country_name + '/corr/'\n",
    "corr_txt_files = [file for file in os.listdir(report_folder_path) if file.endswith('.txt')]\n",
    "\n",
    "top5_explained_variance = [(float('-inf'), None)]*5\n",
    "\n",
    "for txt_file in corr_txt_files:\n",
    "    file_path = os.path.join(report_folder_path, txt_file)\n",
    "    with open(file_path, 'r') as file:\n",
    "        lines = file.readlines()\n",
    "        explained_variance = float(lines[2].split(':')[1].strip())\n",
    "        \n",
    "        lowest_value, _ = min(top5_explained_variance, key=lambda x: x[0])\n",
    "        if explained_variance > lowest_value:\n",
    "            index_to_replace = top5_explained_variance.index((lowest_value, _))\n",
    "            top5_explained_variance[index_to_replace] = (explained_variance, txt_file)\n",
    "\n",
    "top5_explained_variance = sorted(top5_explained_variance, reverse=True)\n",
    "\n",
    "print(\"Top 5 explained variance values:\")\n",
    "for val in top5_explained_variance:\n",
    "    print(val)\n"
   ]
  },
  {
   "cell_type": "code",
   "execution_count": 24,
   "metadata": {},
   "outputs": [],
   "source": [
    "### save top 5 result variance report and corresponding figure in the same folder\n",
    "top5_folder = './Output/' + country_name + '/top5_results'\n",
    "if not os.path.exists(top5_folder):\n",
    "    # If the folder doesn't exist, create it\n",
    "    os.makedirs(top5_folder)\n",
    "\n",
    "figure_folder_path = './Output/' + country_name + '/fig/'\n",
    "top5_report_addr = []\n",
    "top5_figure_addr = []\n",
    "\n",
    "for (_, file_addr) in top5_explained_variance:\n",
    "    top5_report_addr.append(report_folder_path + file_addr)\n",
    "    figure_addr = file_addr.replace('txt', 'jpg')\n",
    "    top5_figure_addr.append(figure_folder_path + figure_addr)\n",
    "\n",
    "for report in top5_report_addr:\n",
    "    shutil.copy(report, top5_folder)\n",
    "\n",
    "for figure in top5_figure_addr:\n",
    "    shutil.copy(figure, top5_folder)\n"
   ]
  }
 ],
 "metadata": {
  "kernelspec": {
   "display_name": "Python 3",
   "language": "python",
   "name": "python3"
  },
  "language_info": {
   "codemirror_mode": {
    "name": "ipython",
    "version": 3
   },
   "file_extension": ".py",
   "mimetype": "text/x-python",
   "name": "python",
   "nbconvert_exporter": "python",
   "pygments_lexer": "ipython3",
   "version": "3.11.4"
  }
 },
 "nbformat": 4,
 "nbformat_minor": 2
}
