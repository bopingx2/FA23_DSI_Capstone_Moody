{
 "cells": [
  {
   "cell_type": "code",
   "execution_count": 11,
   "metadata": {},
   "outputs": [],
   "source": [
    "import os\n",
    "import shutil"
   ]
  },
  {
   "cell_type": "code",
   "execution_count": 16,
   "metadata": {},
   "outputs": [
    {
     "ename": "FileNotFoundError",
     "evalue": "[WinError 3] 系统找不到指定的路径。: './Output/Hungary/corr/'",
     "output_type": "error",
     "traceback": [
      "\u001b[1;31m---------------------------------------------------------------------------\u001b[0m",
      "\u001b[1;31mFileNotFoundError\u001b[0m                         Traceback (most recent call last)",
      "\u001b[1;32mc:\\Columbia Courses\\Capstone Project\\FA23_DSI_Capstone_Moody\\PCA_pipeline\\optimal_pca_selection.ipynb Cell 2\u001b[0m line \u001b[0;36m3\n\u001b[0;32m      <a href='vscode-notebook-cell:/c%3A/Columbia%20Courses/Capstone%20Project/FA23_DSI_Capstone_Moody/PCA_pipeline/optimal_pca_selection.ipynb#W1sZmlsZQ%3D%3D?line=0'>1</a>\u001b[0m country_name \u001b[39m=\u001b[39m \u001b[39m'\u001b[39m\u001b[39mHungary\u001b[39m\u001b[39m'\u001b[39m\n\u001b[0;32m      <a href='vscode-notebook-cell:/c%3A/Columbia%20Courses/Capstone%20Project/FA23_DSI_Capstone_Moody/PCA_pipeline/optimal_pca_selection.ipynb#W1sZmlsZQ%3D%3D?line=1'>2</a>\u001b[0m report_folder_path \u001b[39m=\u001b[39m \u001b[39m'\u001b[39m\u001b[39m./Output/\u001b[39m\u001b[39m'\u001b[39m \u001b[39m+\u001b[39m country_name \u001b[39m+\u001b[39m \u001b[39m'\u001b[39m\u001b[39m/corr/\u001b[39m\u001b[39m'\u001b[39m\n\u001b[1;32m----> <a href='vscode-notebook-cell:/c%3A/Columbia%20Courses/Capstone%20Project/FA23_DSI_Capstone_Moody/PCA_pipeline/optimal_pca_selection.ipynb#W1sZmlsZQ%3D%3D?line=2'>3</a>\u001b[0m corr_txt_files \u001b[39m=\u001b[39m [file \u001b[39mfor\u001b[39;00m file \u001b[39min\u001b[39;00m os\u001b[39m.\u001b[39mlistdir(report_folder_path) \u001b[39mif\u001b[39;00m file\u001b[39m.\u001b[39mendswith(\u001b[39m'\u001b[39m\u001b[39m.txt\u001b[39m\u001b[39m'\u001b[39m)]\n\u001b[0;32m      <a href='vscode-notebook-cell:/c%3A/Columbia%20Courses/Capstone%20Project/FA23_DSI_Capstone_Moody/PCA_pipeline/optimal_pca_selection.ipynb#W1sZmlsZQ%3D%3D?line=4'>5</a>\u001b[0m top20_explained_variance \u001b[39m=\u001b[39m [(\u001b[39mfloat\u001b[39m(\u001b[39m'\u001b[39m\u001b[39m-inf\u001b[39m\u001b[39m'\u001b[39m), \u001b[39mNone\u001b[39;00m)]\u001b[39m*\u001b[39m\u001b[39m20\u001b[39m\n\u001b[0;32m      <a href='vscode-notebook-cell:/c%3A/Columbia%20Courses/Capstone%20Project/FA23_DSI_Capstone_Moody/PCA_pipeline/optimal_pca_selection.ipynb#W1sZmlsZQ%3D%3D?line=6'>7</a>\u001b[0m \u001b[39mfor\u001b[39;00m txt_file \u001b[39min\u001b[39;00m corr_txt_files:\n",
      "\u001b[1;31mFileNotFoundError\u001b[0m: [WinError 3] 系统找不到指定的路径。: './Output/Hungary/corr/'"
     ]
    }
   ],
   "source": [
    "country_name = 'Hungary'\n",
    "report_folder_path = './Output/' + country_name + '/corr/'\n",
    "corr_txt_files = [file for file in os.listdir(report_folder_path) if file.endswith('.txt')]\n",
    "\n",
    "top20_explained_variance = [(float('-inf'), None)]*20\n",
    "\n",
    "for txt_file in corr_txt_files:\n",
    "    file_path = os.path.join(report_folder_path, txt_file)\n",
    "    with open(file_path, 'r') as file:\n",
    "        lines = file.readlines()\n",
    "        row_num = 5\n",
    "        while row_num < len(lines) - 2:\n",
    "            weight = float(lines[row_num].split(':')[1].strip())\n",
    "            if abs(weight) < 0.1:\n",
    "                break\n",
    "            row_num += 1\n",
    "        \n",
    "        if row_num != len(lines) - 2:\n",
    "            continue\n",
    "\n",
    "        explained_variance = float(lines[2].split(':')[1].strip())\n",
    "        \n",
    "        lowest_value, _ = min(top20_explained_variance, key=lambda x: x[0])\n",
    "        if explained_variance > lowest_value:\n",
    "            index_to_replace = top20_explained_variance.index((lowest_value, _))\n",
    "            top20_explained_variance[index_to_replace] = (explained_variance, txt_file)\n",
    "\n",
    "top5_explained_variance = sorted(top20_explained_variance, reverse=True)\n",
    "\n",
    "print(\"Top 50 explained variance values:\")\n",
    "for val in top5_explained_variance:\n",
    "    print(val)"
   ]
  },
  {
   "cell_type": "code",
   "execution_count": 15,
   "metadata": {},
   "outputs": [],
   "source": [
    "### save top 5 result variance report and corresponding figure in the same folder\n",
    "top50_folder = './Output/' + country_name + '/top20_results'\n",
    "if not os.path.exists(top50_folder):\n",
    "    # If the folder doesn't exist, create it\n",
    "    os.makedirs(top50_folder)\n",
    "\n",
    "figure_folder_path = './Output/' + country_name + '/fig/'\n",
    "top5_report_addr = []\n",
    "top5_figure_addr = []\n",
    "\n",
    "for (_, file_addr) in top50_explained_variance:\n",
    "    top5_report_addr.append(report_folder_path + file_addr)\n",
    "    figure_addr = file_addr.replace('txt', 'jpg')\n",
    "    top5_figure_addr.append(figure_folder_path + figure_addr)\n",
    "\n",
    "for report in top5_report_addr:\n",
    "    shutil.copy(report, top50_folder)\n",
    "\n",
    "for figure in top5_figure_addr:\n",
    "    shutil.copy(figure, top50_folder)\n"
   ]
  }
 ],
 "metadata": {
  "kernelspec": {
   "display_name": "Python 3",
   "language": "python",
   "name": "python3"
  },
  "language_info": {
   "codemirror_mode": {
    "name": "ipython",
    "version": 3
   },
   "file_extension": ".py",
   "mimetype": "text/x-python",
   "name": "python",
   "nbconvert_exporter": "python",
   "pygments_lexer": "ipython3",
   "version": "3.11.4"
  }
 },
 "nbformat": 4,
 "nbformat_minor": 2
}
