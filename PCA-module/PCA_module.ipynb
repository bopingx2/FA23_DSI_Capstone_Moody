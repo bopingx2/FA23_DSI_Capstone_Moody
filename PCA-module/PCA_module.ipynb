{
 "cells": [
  {
   "cell_type": "code",
   "execution_count": 2,
   "metadata": {},
   "outputs": [
    {
     "name": "stderr",
     "output_type": "stream",
     "text": [
      "/Users/russell_a/opt/anaconda3/lib/python3.8/site-packages/pandas/core/computation/expressions.py:20: UserWarning: Pandas requires version '2.7.3' or newer of 'numexpr' (version '2.7.1' currently installed).\n",
      "  from pandas.core.computation.check import NUMEXPR_INSTALLED\n"
     ]
    }
   ],
   "source": [
    "import pandas as pd\n",
    "import numpy as np\n",
    "import pandas.api.types as ptypes\n",
    "import sklearn.decomposition\n"
   ]
  },
  {
   "cell_type": "code",
   "execution_count": 4,
   "metadata": {},
   "outputs": [],
   "source": [
    "df = pd.read_csv(\"./Egypt_Sample_Data.csv\")"
   ]
  },
  {
   "cell_type": "code",
   "execution_count": 12,
   "metadata": {},
   "outputs": [
    {
     "data": {
      "text/html": [
       "<div>\n",
       "<style scoped>\n",
       "    .dataframe tbody tr th:only-of-type {\n",
       "        vertical-align: middle;\n",
       "    }\n",
       "\n",
       "    .dataframe tbody tr th {\n",
       "        vertical-align: top;\n",
       "    }\n",
       "\n",
       "    .dataframe thead th {\n",
       "        text-align: right;\n",
       "    }\n",
       "</style>\n",
       "<table border=\"1\" class=\"dataframe\">\n",
       "  <thead>\n",
       "    <tr style=\"text-align: right;\">\n",
       "      <th></th>\n",
       "      <th>Date</th>\n",
       "      <th>TermPremium</th>\n",
       "      <th>RiskPremium</th>\n",
       "      <th>mom%change</th>\n",
       "      <th>mo24mma%change</th>\n",
       "      <th>Volatility</th>\n",
       "    </tr>\n",
       "  </thead>\n",
       "  <tbody>\n",
       "    <tr>\n",
       "      <th>0</th>\n",
       "      <td>2012-04</td>\n",
       "      <td>-3.10</td>\n",
       "      <td>11.65</td>\n",
       "      <td>-1.461378</td>\n",
       "      <td>0.881439</td>\n",
       "      <td>205.422784</td>\n",
       "    </tr>\n",
       "    <tr>\n",
       "      <th>1</th>\n",
       "      <td>2012-07</td>\n",
       "      <td>0.35</td>\n",
       "      <td>15.49</td>\n",
       "      <td>3.269344</td>\n",
       "      <td>0.910426</td>\n",
       "      <td>311.983378</td>\n",
       "    </tr>\n",
       "    <tr>\n",
       "      <th>2</th>\n",
       "      <td>2012-09</td>\n",
       "      <td>0.35</td>\n",
       "      <td>15.35</td>\n",
       "      <td>9.181302</td>\n",
       "      <td>1.108674</td>\n",
       "      <td>268.840724</td>\n",
       "    </tr>\n",
       "    <tr>\n",
       "      <th>3</th>\n",
       "      <td>2012-10</td>\n",
       "      <td>0.70</td>\n",
       "      <td>14.48</td>\n",
       "      <td>-2.162382</td>\n",
       "      <td>1.089768</td>\n",
       "      <td>196.672502</td>\n",
       "    </tr>\n",
       "    <tr>\n",
       "      <th>4</th>\n",
       "      <td>2012-11</td>\n",
       "      <td>1.10</td>\n",
       "      <td>15.08</td>\n",
       "      <td>-15.594644</td>\n",
       "      <td>0.926755</td>\n",
       "      <td>148.565336</td>\n",
       "    </tr>\n",
       "    <tr>\n",
       "      <th>...</th>\n",
       "      <td>...</td>\n",
       "      <td>...</td>\n",
       "      <td>...</td>\n",
       "      <td>...</td>\n",
       "      <td>...</td>\n",
       "      <td>...</td>\n",
       "    </tr>\n",
       "    <tr>\n",
       "      <th>117</th>\n",
       "      <td>2022-05</td>\n",
       "      <td>0.67</td>\n",
       "      <td>14.43</td>\n",
       "      <td>-8.125221</td>\n",
       "      <td>0.926215</td>\n",
       "      <td>339.893895</td>\n",
       "    </tr>\n",
       "    <tr>\n",
       "      <th>118</th>\n",
       "      <td>2022-06</td>\n",
       "      <td>0.67</td>\n",
       "      <td>14.04</td>\n",
       "      <td>-9.107738</td>\n",
       "      <td>0.842082</td>\n",
       "      <td>328.243477</td>\n",
       "    </tr>\n",
       "    <tr>\n",
       "      <th>119</th>\n",
       "      <td>2022-07</td>\n",
       "      <td>0.15</td>\n",
       "      <td>15.32</td>\n",
       "      <td>2.617388</td>\n",
       "      <td>0.869210</td>\n",
       "      <td>537.347807</td>\n",
       "    </tr>\n",
       "    <tr>\n",
       "      <th>120</th>\n",
       "      <td>2022-08</td>\n",
       "      <td>0.00</td>\n",
       "      <td>15.42</td>\n",
       "      <td>5.614508</td>\n",
       "      <td>0.922006</td>\n",
       "      <td>495.248034</td>\n",
       "    </tr>\n",
       "    <tr>\n",
       "      <th>121</th>\n",
       "      <td>2022-09</td>\n",
       "      <td>-0.12</td>\n",
       "      <td>14.89</td>\n",
       "      <td>-1.711738</td>\n",
       "      <td>0.911010</td>\n",
       "      <td>254.799355</td>\n",
       "    </tr>\n",
       "  </tbody>\n",
       "</table>\n",
       "<p>122 rows × 6 columns</p>\n",
       "</div>"
      ],
      "text/plain": [
       "        Date  TermPremium  RiskPremium  mom%change  mo24mma%change  Volatility\n",
       "0    2012-04        -3.10        11.65   -1.461378        0.881439  205.422784\n",
       "1    2012-07         0.35        15.49    3.269344        0.910426  311.983378\n",
       "2    2012-09         0.35        15.35    9.181302        1.108674  268.840724\n",
       "3    2012-10         0.70        14.48   -2.162382        1.089768  196.672502\n",
       "4    2012-11         1.10        15.08  -15.594644        0.926755  148.565336\n",
       "..       ...          ...          ...         ...             ...         ...\n",
       "117  2022-05         0.67        14.43   -8.125221        0.926215  339.893895\n",
       "118  2022-06         0.67        14.04   -9.107738        0.842082  328.243477\n",
       "119  2022-07         0.15        15.32    2.617388        0.869210  537.347807\n",
       "120  2022-08         0.00        15.42    5.614508        0.922006  495.248034\n",
       "121  2022-09        -0.12        14.89   -1.711738        0.911010  254.799355\n",
       "\n",
       "[122 rows x 6 columns]"
      ]
     },
     "execution_count": 12,
     "metadata": {},
     "output_type": "execute_result"
    }
   ],
   "source": []
  },
  {
   "cell_type": "code",
   "execution_count": 7,
   "metadata": {},
   "outputs": [],
   "source": [
    "def get_YM_from_datetime(dt):\n",
    "    return str(dt.year) + \"-\" + str(dt.month)"
   ]
  },
  {
   "cell_type": "code",
   "execution_count": 8,
   "metadata": {},
   "outputs": [],
   "source": [
    "def scale_series(series, mean, std):\n",
    "    return (series - mean)/std"
   ]
  },
  {
   "cell_type": "code",
   "execution_count": 17,
   "metadata": {},
   "outputs": [],
   "source": [
    "def PCA_module(df: pd.DataFrame):\n",
    "    ''' Assert the names and the types of the columns. Assert the cov matrix is all positive. '''\n",
    "    assert (df.columns[0] == \"Date\")\n",
    "    # assert (ptypes.is_datetime64_dtype(df[\"Date\"]))\n",
    "    assert all(ptypes.is_numeric_dtype(df[col]) for col in df.columns[1:])\n",
    "    df = df.dropna(axis = \"index\")\n",
    "    # assert ((df.cov(numeric_only=True).values > 0).all())\n",
    "\n",
    "    ''' Get the date range '''\n",
    "    df = df.sort_values(by= [\"Date\"], ascending=False)\n",
    "    print(\"The date range is :\", df[\"Date\"].iat[-1], \"to\", df[\"Date\"].iat[0])\n",
    "\n",
    "    ''' Scale the data '''\n",
    "    for col in df.columns[1:]:\n",
    "        df[col] = scale_series(df[col], df[col].mean(), df[col].std())\n",
    "    \n",
    "    ''' PCA analysis'''\n",
    "    pca = sklearn.decomposition.PCA(n_components = len(df.columns)-1) # Minka’s MLE is used to guess the dimension.\n",
    "    pca.fit(df.iloc[:, 1:])\n",
    "    df_transformed = pd.DataFrame(pca.transform(df.iloc[:, 1:]))\n",
    "    df_transformed.insert(0, \"Date\", df[\"Date\"])\n",
    "    print(df_transformed)\n",
    "\n",
    "\n"
   ]
  },
  {
   "cell_type": "code",
   "execution_count": 18,
   "metadata": {},
   "outputs": [
    {
     "name": "stdout",
     "output_type": "stream",
     "text": [
      "The date range is : 2012-04 to 2022-09\n",
      "        Date         0         1         2         3         4\n",
      "0    2012-04 -0.586438 -0.902769 -0.832253 -0.352469 -0.140629\n",
      "1    2012-07  0.485671 -1.573757 -0.569674  0.701437 -0.373823\n",
      "2    2012-09  0.121366 -1.724910 -0.303137  0.835909 -0.232162\n",
      "3    2012-10 -1.487627 -0.695969  0.068032 -0.108122  0.220724\n",
      "4    2012-11 -1.136205 -0.747639 -0.170094 -0.034078  0.469272\n",
      "..       ...       ...       ...       ...       ...       ...\n",
      "117  2022-05 -2.091027 -0.557388 -1.069903 -0.500829  1.109083\n",
      "118  2022-06 -0.412761 -0.034278 -0.834869 -0.423494  0.268279\n",
      "119  2022-07  0.873668 -0.501889 -1.403589  0.087746 -0.399080\n",
      "120  2022-08 -0.073170 -1.099421 -1.193712  0.247515 -0.347245\n",
      "121  2022-09 -0.580634 -0.236141  1.339359 -2.295425 -1.231621\n",
      "\n",
      "[122 rows x 6 columns]\n"
     ]
    }
   ],
   "source": [
    "PCA_module(df)"
   ]
  },
  {
   "cell_type": "code",
   "execution_count": null,
   "metadata": {},
   "outputs": [
    {
     "ename": "",
     "evalue": "",
     "output_type": "error",
     "traceback": [
      "\u001b[1;31mRunning cells with 'codes' requires the ipykernel package.\n",
      "\u001b[1;31mRun the following command to install 'ipykernel' into the Python environment. \n",
      "\u001b[1;31mCommand: 'conda install -n codes ipykernel --update-deps --force-reinstall'"
     ]
    }
   ],
   "source": []
  }
 ],
 "metadata": {
  "kernelspec": {
   "display_name": "base",
   "language": "python",
   "name": "python3"
  },
  "language_info": {
   "codemirror_mode": {
    "name": "ipython",
    "version": 3
   },
   "file_extension": ".py",
   "mimetype": "text/x-python",
   "name": "python",
   "nbconvert_exporter": "python",
   "pygments_lexer": "ipython3",
   "version": "3.8.15"
  },
  "orig_nbformat": 4
 },
 "nbformat": 4,
 "nbformat_minor": 2
}
