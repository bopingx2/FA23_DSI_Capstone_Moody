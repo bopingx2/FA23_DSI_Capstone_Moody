{
 "cells": [
  {
   "cell_type": "code",
   "execution_count": 1,
   "metadata": {},
   "outputs": [],
   "source": [
    "import pandas as pd"
   ]
  },
  {
   "cell_type": "code",
   "execution_count": 2,
   "metadata": {},
   "outputs": [],
   "source": [
    "country = 'Poland'"
   ]
  },
  {
   "cell_type": "code",
   "execution_count": 5,
   "metadata": {},
   "outputs": [],
   "source": [
    "reer_path = 'raw_REER_' + country + '.csv'\n",
    "reer = pd.read_csv(reer_path)\n",
    "reer = reer.iloc[26:]\n",
    "reer.rename(columns={'Unnamed: 0': 'Date', 'Real Effective Exchange Rate Index: Based on Consumer Price Index': 'REER'}, inplace = True)\n",
    "reer['Date'] = pd.to_datetime(reer['Date']) + pd.tseries.offsets.MonthEnd(0)\n",
    "reer['REER'] = reer['REER'].astype(float)\n",
    "\n",
    "csv_path = 'REER_' + country + '.csv'\n",
    "reer.to_csv(csv_path, index = False)"
   ]
  },
  {
   "cell_type": "code",
   "execution_count": 6,
   "metadata": {},
   "outputs": [],
   "source": [
    "for country in ['Hungary', 'Nigeria', 'Poland', 'Romania']:\n",
    "    reer_path = 'raw_REER_' + country + '.csv'\n",
    "    reer = pd.read_csv(reer_path)\n",
    "    reer = reer.iloc[26:]\n",
    "    reer.rename(columns={'Unnamed: 0': 'Date', 'Real Effective Exchange Rate Index: Based on Consumer Price Index': 'REER'}, inplace = True)\n",
    "    reer['Date'] = pd.to_datetime(reer['Date']) + pd.tseries.offsets.MonthEnd(0)\n",
    "    reer['REER'] = reer['REER'].astype(float)\n",
    "\n",
    "    csv_path = 'REER_' + country + '.csv'\n",
    "    reer.to_csv(csv_path, index = False)"
   ]
  }
 ],
 "metadata": {
  "kernelspec": {
   "display_name": "idp",
   "language": "python",
   "name": "python3"
  },
  "language_info": {
   "codemirror_mode": {
    "name": "ipython",
    "version": 3
   },
   "file_extension": ".py",
   "mimetype": "text/x-python",
   "name": "python",
   "nbconvert_exporter": "python",
   "pygments_lexer": "ipython3",
   "version": "3.10.11"
  },
  "orig_nbformat": 4
 },
 "nbformat": 4,
 "nbformat_minor": 2
}
