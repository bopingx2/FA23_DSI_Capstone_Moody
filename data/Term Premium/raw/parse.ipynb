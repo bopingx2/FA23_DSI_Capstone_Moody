{
 "cells": [
  {
   "cell_type": "code",
   "execution_count": 2,
   "metadata": {},
   "outputs": [],
   "source": [
    "import pandas as pd"
   ]
  },
  {
   "cell_type": "code",
   "execution_count": 86,
   "metadata": {},
   "outputs": [],
   "source": [
    "n2 = pd.read_csv(\"Nigeria_2yr_yield.csv\")\n",
    "n2 = n2[['Date', 'Price']]\n",
    "n2.rename(columns={'Price': 'two_yr'}, inplace=True)\n",
    "n2['Date'] = pd.to_datetime(n2['Date']) - pd.Timedelta(days=1)"
   ]
  },
  {
   "cell_type": "code",
   "execution_count": 87,
   "metadata": {},
   "outputs": [],
   "source": [
    "range = pd.date_range('2008-02-29', '2023-09-30', freq='m')"
   ]
  },
  {
   "cell_type": "code",
   "execution_count": 88,
   "metadata": {},
   "outputs": [],
   "source": [
    "range = pd.DataFrame(range, columns=['Date'])"
   ]
  },
  {
   "cell_type": "code",
   "execution_count": 89,
   "metadata": {},
   "outputs": [],
   "source": [
    "full = pd.merge(range, n2, how='left')"
   ]
  },
  {
   "cell_type": "code",
   "execution_count": 90,
   "metadata": {},
   "outputs": [],
   "source": [
    "pd.set_option('display.max_rows', 500)"
   ]
  },
  {
   "cell_type": "code",
   "execution_count": 93,
   "metadata": {},
   "outputs": [],
   "source": [
    "n10 = pd.read_csv(\"Term_Premium_Nigeria.csv\")\n",
    "n10 = n10[['Date', 'ten_yr']]\n",
    "n10['Date'] = pd.to_datetime(n10['Date'])"
   ]
  },
  {
   "cell_type": "code",
   "execution_count": 96,
   "metadata": {},
   "outputs": [],
   "source": [
    "term = pd.merge(n10, n2, how='inner')\n",
    "term['TermPremium'] = term['ten_yr'] - term['two_yr']"
   ]
  },
  {
   "cell_type": "code",
   "execution_count": 98,
   "metadata": {},
   "outputs": [],
   "source": [
    "term.to_csv(\"Term_Premium_Nigeria.csv\", index=False)"
   ]
  },
  {
   "cell_type": "code",
   "execution_count": 22,
   "metadata": {},
   "outputs": [],
   "source": [
    "for country in ['Egypt', 'Poland', 'Romania']:\n",
    "    b5_path = country + '_5yr_yield.csv'\n",
    "    b5 = pd.read_csv(b5_path)\n",
    "    b5 = b5[2:][['Ticker', 'Series Type']]\n",
    "    b5.rename(columns={'Ticker': 'Date', 'Series Type': 'five_yr'}, inplace=True)\n",
    "    b5['Date'] = pd.to_datetime(b5['Date'])\n",
    "    b5['five_yr'] = b5['five_yr'].astype(float)\n",
    "\n",
    "    b10_path = country + '_10yr_yield.csv'\n",
    "    b10 = pd.read_csv(b10_path)\n",
    "    if country == 'Romania':\n",
    "        b10 = b10[26:]\n",
    "        b10.rename(columns={'Unnamed: 0': 'Date', 'RO: Interest Rate: Harmonised Long Term: 10 years': 'ten_yr'}, inplace=True)\n",
    "    else:\n",
    "        b10 = b10[2:][['Ticker', 'Series Type']]\n",
    "        b10.rename(columns={'Ticker': 'Date', 'Series Type': 'ten_yr'}, inplace=True)\n",
    "    b10['Date'] = pd.to_datetime(b10['Date']) + pd.tseries.offsets.MonthEnd(0)\n",
    "    b10['ten_yr'] = b10['ten_yr'].astype(float)\n",
    "\n",
    "    term = pd.merge(b10, b5, how='inner')\n",
    "    term['TermPremium'] = term['ten_yr'] - term['five_yr']\n",
    "    csv_path = 'Term_Premium_' + country + '.csv'\n",
    "    term.to_csv(csv_path, index=False)\n",
    "    "
   ]
  }
 ],
 "metadata": {
  "kernelspec": {
   "display_name": "idp",
   "language": "python",
   "name": "python3"
  },
  "language_info": {
   "codemirror_mode": {
    "name": "ipython",
    "version": 3
   },
   "file_extension": ".py",
   "mimetype": "text/x-python",
   "name": "python",
   "nbconvert_exporter": "python",
   "pygments_lexer": "ipython3",
   "version": "3.10.11"
  },
  "orig_nbformat": 4
 },
 "nbformat": 4,
 "nbformat_minor": 2
}
