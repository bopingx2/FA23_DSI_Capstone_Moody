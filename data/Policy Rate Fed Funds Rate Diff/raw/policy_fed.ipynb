{
 "cells": [
  {
   "cell_type": "code",
   "execution_count": 1,
   "metadata": {},
   "outputs": [],
   "source": [
    "import pandas as pd"
   ]
  },
  {
   "cell_type": "code",
   "execution_count": 2,
   "metadata": {},
   "outputs": [],
   "source": [
    "from pathlib import Path\n",
    "parent_dir = str(Path().resolve().parents[1])"
   ]
  },
  {
   "cell_type": "code",
   "execution_count": 3,
   "metadata": {},
   "outputs": [],
   "source": [
    "fed_eop = pd.read_csv('Federal Funds Rate EOP.csv')\n",
    "fed_eop = fed_eop.iloc[26:]\n",
    "fed_eop.rename(columns={'Unnamed: 0': 'Date', 'Policy Rate: Month End: Effective Federal Funds Rate': 'Federal Funds Rate'}, inplace = True)\n",
    "fed_eop['Date'] = pd.to_datetime(fed_eop['Date']) + pd.tseries.offsets.MonthEnd(0)\n",
    "fed_eop['Federal Funds Rate'] = fed_eop['Federal Funds Rate'].astype(float)"
   ]
  },
  {
   "cell_type": "code",
   "execution_count": 4,
   "metadata": {},
   "outputs": [],
   "source": [
    "fed_avg = pd.read_csv('Federal Funds Rate AVG.csv')\n",
    "fed_avg = fed_avg.iloc[26:]\n",
    "fed_avg.rename(columns={'Unnamed: 0': 'Date', 'Effective Federal Funds Rate: Month Average': 'Federal Funds Rate'}, inplace = True)\n",
    "fed_avg['Date'] = pd.to_datetime(fed_avg['Date']) + pd.tseries.offsets.MonthEnd(0)\n",
    "fed_avg['Federal Funds Rate'] = fed_avg['Federal Funds Rate'].astype(float)"
   ]
  },
  {
   "cell_type": "code",
   "execution_count": 12,
   "metadata": {},
   "outputs": [],
   "source": [
    "for country in ['Egypt', 'Hungary', 'Nigeria', 'Poland', 'Romania']:\n",
    "\n",
    "    policy_path = parent_dir + '\\\\Policy Rate\\\\Policy_Rate_EOP_' + country + '.csv'\n",
    "\n",
    "    policy = pd.read_csv(policy_path)\n",
    "    policy['Date'] = pd.to_datetime(policy['Date'])\n",
    "\n",
    "    data = pd.merge(policy, fed_eop, on = 'Date', how = 'inner')\n",
    "    data['Rate Difference'] = data['Policy Rate'] - data['Federal Funds Rate']\n",
    "\n",
    "    csv_path = 'Policy_Fed_Rate_diff_EOP_' + country + '.csv'\n",
    "    data.to_csv(csv_path, index = False)"
   ]
  },
  {
   "cell_type": "code",
   "execution_count": 6,
   "metadata": {},
   "outputs": [],
   "source": [
    "for country in ['Egypt', 'Hungary', 'Nigeria', 'Poland', 'Romania']:\n",
    "\n",
    "    policy_path = parent_dir + '\\\\Policy Rate\\\\Policy_Rate_AVG_' + country + '.csv'\n",
    "\n",
    "    policy = pd.read_csv(policy_path)\n",
    "    policy['Date'] = pd.to_datetime(policy['Date'])\n",
    "\n",
    "    data = pd.merge(policy, fed_eop, on = 'Date', how = 'inner')\n",
    "    data['Rate Difference'] = data['Policy Rate'] - data['Federal Funds Rate']\n",
    "\n",
    "    csv_path = 'Policy_Fed_Rate_diff_AVG_' + country + '.csv'\n",
    "    data.to_csv(csv_path, index = False)"
   ]
  }
 ],
 "metadata": {
  "kernelspec": {
   "display_name": "idp",
   "language": "python",
   "name": "python3"
  },
  "language_info": {
   "codemirror_mode": {
    "name": "ipython",
    "version": 3
   },
   "file_extension": ".py",
   "mimetype": "text/x-python",
   "name": "python",
   "nbconvert_exporter": "python",
   "pygments_lexer": "ipython3",
   "version": "3.10.11"
  },
  "orig_nbformat": 4
 },
 "nbformat": 4,
 "nbformat_minor": 2
}
