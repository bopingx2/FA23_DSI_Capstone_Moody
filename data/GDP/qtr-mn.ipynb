{
 "cells": [
  {
   "cell_type": "code",
   "execution_count": 71,
   "metadata": {},
   "outputs": [],
   "source": [
    "import pandas as pd\n",
    "import numpy as np\n",
    "import scipy as sp\n",
    "import matplotlib as plt\n",
    "import seaborn as sns\n",
    "import warnings\n",
    "warnings.filterwarnings('ignore')"
   ]
  },
  {
   "cell_type": "code",
   "execution_count": 78,
   "metadata": {},
   "outputs": [],
   "source": [
    "for conutry in ['Egypt', 'Hungary', 'Nigeria', 'Poland', 'Romania']:\n",
    "    usd_path = 'Exchange Rate against USD Period Avg Monthly ' + conutry + '.csv'\n",
    "    usd = pd.read_csv(usd_path)\n",
    "    exr = usd.iloc[26:]\n",
    "    usd_name = 'Exchange Rate against USD: Period Avg: Monthly: ' + conutry\n",
    "    exr.rename(columns={'Unnamed: 0': 'Date', usd_name: 'US/Local'}, inplace = True)\n",
    "    exr['Date'] = pd.to_datetime(exr['Date']) + pd.tseries.offsets.MonthEnd(0)\n",
    "    exr['US/Local'] = np.round(exr['US/Local'].astype(float), 2)\n",
    "\n",
    "    qtr_path = 'qtr_GDP_' + conutry + '.csv'\n",
    "    qtr = pd.read_csv(qtr_path)\n",
    "    data = qtr.iloc[26:]\n",
    "    data.rename(columns={'Unnamed: 0': 'Date', 'Gross Domestic Product (GDP)': 'GDP in mil Local'}, inplace = True)\n",
    "    data['Date'] = pd.to_datetime(data['Date']) + pd.tseries.offsets.MonthEnd(0)\n",
    "    data['GDP in mil Local'] = np.round(data['GDP in mil Local'].astype(float), 2)\n",
    "\n",
    "    if conutry == 'Egypt': data['GDP in mil Local'] *= 1e3\n",
    "\n",
    "    f = sp.interpolate.CubicSpline(data['Date'], data['GDP in mil Local'], bc_type = 'natural')\n",
    "    start = data['Date'].iloc[0]\n",
    "    end = data['Date'].iloc[-1] + pd.DateOffset(months = 1)\n",
    "    full = pd.date_range(start, end, freq = \"M\").to_series().reset_index(drop = True)\n",
    "    GDPi = pd.Series(f(full))\n",
    "    datai = pd.DataFrame({\"Date\": full, \"GDP in mil Local\": GDPi})\n",
    "\n",
    "    datam = pd.merge(datai, exr, on = 'Date', how = 'left')\n",
    "    datam['GDP in mil USD'] = np.round(datam['GDP in mil Local'] / datam['US/Local'], 2)\n",
    "\n",
    "    csv_path = 'GDP_in_mil_USD_' + conutry + '.csv'\n",
    "    datam.to_csv(csv_path, index = False)"
   ]
  },
  {
   "cell_type": "code",
   "execution_count": 36,
   "metadata": {},
   "outputs": [],
   "source": [
    "usd = pd.read_csv(\"Exchange Rate against USD Period Avg Monthly Egypt.csv\")"
   ]
  },
  {
   "cell_type": "code",
   "execution_count": 37,
   "metadata": {},
   "outputs": [],
   "source": [
    "exr = usd.iloc[26:]"
   ]
  },
  {
   "cell_type": "code",
   "execution_count": 38,
   "metadata": {},
   "outputs": [
    {
     "data": {
      "text/html": [
       "<div>\n",
       "<style scoped>\n",
       "    .dataframe tbody tr th:only-of-type {\n",
       "        vertical-align: middle;\n",
       "    }\n",
       "\n",
       "    .dataframe tbody tr th {\n",
       "        vertical-align: top;\n",
       "    }\n",
       "\n",
       "    .dataframe thead th {\n",
       "        text-align: right;\n",
       "    }\n",
       "</style>\n",
       "<table border=\"1\" class=\"dataframe\">\n",
       "  <thead>\n",
       "    <tr style=\"text-align: right;\">\n",
       "      <th></th>\n",
       "      <th>Unnamed: 0</th>\n",
       "      <th>Exchange Rate against USD: Period Avg: Monthly: Egypt</th>\n",
       "    </tr>\n",
       "  </thead>\n",
       "  <tbody>\n",
       "    <tr>\n",
       "      <th>26</th>\n",
       "      <td>01/1957</td>\n",
       "      <td>0.348242</td>\n",
       "    </tr>\n",
       "    <tr>\n",
       "      <th>27</th>\n",
       "      <td>02/1957</td>\n",
       "      <td>0.348242</td>\n",
       "    </tr>\n",
       "    <tr>\n",
       "      <th>28</th>\n",
       "      <td>03/1957</td>\n",
       "      <td>0.348242</td>\n",
       "    </tr>\n",
       "    <tr>\n",
       "      <th>29</th>\n",
       "      <td>04/1957</td>\n",
       "      <td>0.348242</td>\n",
       "    </tr>\n",
       "    <tr>\n",
       "      <th>30</th>\n",
       "      <td>05/1957</td>\n",
       "      <td>0.348242</td>\n",
       "    </tr>\n",
       "    <tr>\n",
       "      <th>...</th>\n",
       "      <td>...</td>\n",
       "      <td>...</td>\n",
       "    </tr>\n",
       "    <tr>\n",
       "      <th>822</th>\n",
       "      <td>05/2023</td>\n",
       "      <td>30.88736818</td>\n",
       "    </tr>\n",
       "    <tr>\n",
       "      <th>823</th>\n",
       "      <td>06/2023</td>\n",
       "      <td>30.89045278</td>\n",
       "    </tr>\n",
       "    <tr>\n",
       "      <th>824</th>\n",
       "      <td>07/2023</td>\n",
       "      <td>30.890425</td>\n",
       "    </tr>\n",
       "    <tr>\n",
       "      <th>825</th>\n",
       "      <td>08/2023</td>\n",
       "      <td>30.8903913</td>\n",
       "    </tr>\n",
       "    <tr>\n",
       "      <th>826</th>\n",
       "      <td>09/2023</td>\n",
       "      <td>30.89045</td>\n",
       "    </tr>\n",
       "  </tbody>\n",
       "</table>\n",
       "<p>801 rows × 2 columns</p>\n",
       "</div>"
      ],
      "text/plain": [
       "    Unnamed: 0 Exchange Rate against USD: Period Avg: Monthly: Egypt\n",
       "26     01/1957                                           0.348242   \n",
       "27     02/1957                                           0.348242   \n",
       "28     03/1957                                           0.348242   \n",
       "29     04/1957                                           0.348242   \n",
       "30     05/1957                                           0.348242   \n",
       "..         ...                                                ...   \n",
       "822    05/2023                                        30.88736818   \n",
       "823    06/2023                                        30.89045278   \n",
       "824    07/2023                                          30.890425   \n",
       "825    08/2023                                         30.8903913   \n",
       "826    09/2023                                           30.89045   \n",
       "\n",
       "[801 rows x 2 columns]"
      ]
     },
     "execution_count": 38,
     "metadata": {},
     "output_type": "execute_result"
    }
   ],
   "source": [
    "exr"
   ]
  },
  {
   "cell_type": "code",
   "execution_count": 39,
   "metadata": {},
   "outputs": [
    {
     "name": "stderr",
     "output_type": "stream",
     "text": [
      "C:\\Users\\MacTavish\\AppData\\Local\\Temp\\ipykernel_33376\\2078309061.py:1: SettingWithCopyWarning: \n",
      "A value is trying to be set on a copy of a slice from a DataFrame\n",
      "\n",
      "See the caveats in the documentation: https://pandas.pydata.org/pandas-docs/stable/user_guide/indexing.html#returning-a-view-versus-a-copy\n",
      "  exr.rename(columns={\"Unnamed: 0\": \"Date\", \"Exchange Rate against USD: Period Avg: Monthly: Egypt\": \"US/Local\"}, inplace = True)\n"
     ]
    }
   ],
   "source": [
    "exr.rename(columns={\"Unnamed: 0\": \"Date\", \"Exchange Rate against USD: Period Avg: Monthly: Egypt\": \"US/Local\"}, inplace = True)"
   ]
  },
  {
   "cell_type": "code",
   "execution_count": 40,
   "metadata": {},
   "outputs": [
    {
     "name": "stderr",
     "output_type": "stream",
     "text": [
      "C:\\Users\\MacTavish\\AppData\\Local\\Temp\\ipykernel_33376\\2885317987.py:1: SettingWithCopyWarning: \n",
      "A value is trying to be set on a copy of a slice from a DataFrame.\n",
      "Try using .loc[row_indexer,col_indexer] = value instead\n",
      "\n",
      "See the caveats in the documentation: https://pandas.pydata.org/pandas-docs/stable/user_guide/indexing.html#returning-a-view-versus-a-copy\n",
      "  exr['Date'] = pd.to_datetime(exr['Date']) + pd.tseries.offsets.MonthEnd(0)\n"
     ]
    }
   ],
   "source": [
    "exr['Date'] = pd.to_datetime(exr['Date']) + pd.tseries.offsets.MonthEnd(0)"
   ]
  },
  {
   "cell_type": "code",
   "execution_count": 41,
   "metadata": {},
   "outputs": [
    {
     "name": "stderr",
     "output_type": "stream",
     "text": [
      "C:\\Users\\MacTavish\\AppData\\Local\\Temp\\ipykernel_33376\\952134437.py:1: SettingWithCopyWarning: \n",
      "A value is trying to be set on a copy of a slice from a DataFrame.\n",
      "Try using .loc[row_indexer,col_indexer] = value instead\n",
      "\n",
      "See the caveats in the documentation: https://pandas.pydata.org/pandas-docs/stable/user_guide/indexing.html#returning-a-view-versus-a-copy\n",
      "  exr['US/Local'] = exr['US/Local'].astype(float)\n"
     ]
    }
   ],
   "source": [
    "exr['US/Local'] = exr['US/Local'].astype(float)"
   ]
  },
  {
   "cell_type": "code",
   "execution_count": 42,
   "metadata": {},
   "outputs": [
    {
     "data": {
      "text/html": [
       "<div>\n",
       "<style scoped>\n",
       "    .dataframe tbody tr th:only-of-type {\n",
       "        vertical-align: middle;\n",
       "    }\n",
       "\n",
       "    .dataframe tbody tr th {\n",
       "        vertical-align: top;\n",
       "    }\n",
       "\n",
       "    .dataframe thead th {\n",
       "        text-align: right;\n",
       "    }\n",
       "</style>\n",
       "<table border=\"1\" class=\"dataframe\">\n",
       "  <thead>\n",
       "    <tr style=\"text-align: right;\">\n",
       "      <th></th>\n",
       "      <th>Date</th>\n",
       "      <th>US/Local</th>\n",
       "    </tr>\n",
       "  </thead>\n",
       "  <tbody>\n",
       "    <tr>\n",
       "      <th>26</th>\n",
       "      <td>1957-01-31</td>\n",
       "      <td>0.348242</td>\n",
       "    </tr>\n",
       "    <tr>\n",
       "      <th>27</th>\n",
       "      <td>1957-02-28</td>\n",
       "      <td>0.348242</td>\n",
       "    </tr>\n",
       "    <tr>\n",
       "      <th>28</th>\n",
       "      <td>1957-03-31</td>\n",
       "      <td>0.348242</td>\n",
       "    </tr>\n",
       "    <tr>\n",
       "      <th>29</th>\n",
       "      <td>1957-04-30</td>\n",
       "      <td>0.348242</td>\n",
       "    </tr>\n",
       "    <tr>\n",
       "      <th>30</th>\n",
       "      <td>1957-05-31</td>\n",
       "      <td>0.348242</td>\n",
       "    </tr>\n",
       "    <tr>\n",
       "      <th>...</th>\n",
       "      <td>...</td>\n",
       "      <td>...</td>\n",
       "    </tr>\n",
       "    <tr>\n",
       "      <th>822</th>\n",
       "      <td>2023-05-31</td>\n",
       "      <td>30.887368</td>\n",
       "    </tr>\n",
       "    <tr>\n",
       "      <th>823</th>\n",
       "      <td>2023-06-30</td>\n",
       "      <td>30.890453</td>\n",
       "    </tr>\n",
       "    <tr>\n",
       "      <th>824</th>\n",
       "      <td>2023-07-31</td>\n",
       "      <td>30.890425</td>\n",
       "    </tr>\n",
       "    <tr>\n",
       "      <th>825</th>\n",
       "      <td>2023-08-31</td>\n",
       "      <td>30.890391</td>\n",
       "    </tr>\n",
       "    <tr>\n",
       "      <th>826</th>\n",
       "      <td>2023-09-30</td>\n",
       "      <td>30.890450</td>\n",
       "    </tr>\n",
       "  </tbody>\n",
       "</table>\n",
       "<p>801 rows × 2 columns</p>\n",
       "</div>"
      ],
      "text/plain": [
       "          Date   US/Local\n",
       "26  1957-01-31   0.348242\n",
       "27  1957-02-28   0.348242\n",
       "28  1957-03-31   0.348242\n",
       "29  1957-04-30   0.348242\n",
       "30  1957-05-31   0.348242\n",
       "..         ...        ...\n",
       "822 2023-05-31  30.887368\n",
       "823 2023-06-30  30.890453\n",
       "824 2023-07-31  30.890425\n",
       "825 2023-08-31  30.890391\n",
       "826 2023-09-30  30.890450\n",
       "\n",
       "[801 rows x 2 columns]"
      ]
     },
     "execution_count": 42,
     "metadata": {},
     "output_type": "execute_result"
    }
   ],
   "source": [
    "exr"
   ]
  },
  {
   "cell_type": "code",
   "execution_count": 43,
   "metadata": {},
   "outputs": [],
   "source": [
    "qtr = pd.read_csv(\"qtr_GDP_Egypt.csv\")"
   ]
  },
  {
   "cell_type": "code",
   "execution_count": 44,
   "metadata": {},
   "outputs": [],
   "source": [
    "data = qtr.iloc[26:]"
   ]
  },
  {
   "cell_type": "code",
   "execution_count": 45,
   "metadata": {},
   "outputs": [
    {
     "data": {
      "text/html": [
       "<div>\n",
       "<style scoped>\n",
       "    .dataframe tbody tr th:only-of-type {\n",
       "        vertical-align: middle;\n",
       "    }\n",
       "\n",
       "    .dataframe tbody tr th {\n",
       "        vertical-align: top;\n",
       "    }\n",
       "\n",
       "    .dataframe thead th {\n",
       "        text-align: right;\n",
       "    }\n",
       "</style>\n",
       "<table border=\"1\" class=\"dataframe\">\n",
       "  <thead>\n",
       "    <tr style=\"text-align: right;\">\n",
       "      <th></th>\n",
       "      <th>Unnamed: 0</th>\n",
       "      <th>GDP: Resources: GDP at Market Price</th>\n",
       "    </tr>\n",
       "  </thead>\n",
       "  <tbody>\n",
       "    <tr>\n",
       "      <th>26</th>\n",
       "      <td>09/2001</td>\n",
       "      <td>99.8</td>\n",
       "    </tr>\n",
       "    <tr>\n",
       "      <th>27</th>\n",
       "      <td>12/2001</td>\n",
       "      <td>93.4</td>\n",
       "    </tr>\n",
       "    <tr>\n",
       "      <th>28</th>\n",
       "      <td>03/2002</td>\n",
       "      <td>93.2</td>\n",
       "    </tr>\n",
       "    <tr>\n",
       "      <th>29</th>\n",
       "      <td>06/2002</td>\n",
       "      <td>92.5</td>\n",
       "    </tr>\n",
       "    <tr>\n",
       "      <th>30</th>\n",
       "      <td>09/2002</td>\n",
       "      <td>109.3</td>\n",
       "    </tr>\n",
       "    <tr>\n",
       "      <th>...</th>\n",
       "      <td>...</td>\n",
       "      <td>...</td>\n",
       "    </tr>\n",
       "    <tr>\n",
       "      <th>108</th>\n",
       "      <td>03/2022</td>\n",
       "      <td>1877.4</td>\n",
       "    </tr>\n",
       "    <tr>\n",
       "      <th>109</th>\n",
       "      <td>06/2022</td>\n",
       "      <td>1948.6</td>\n",
       "    </tr>\n",
       "    <tr>\n",
       "      <th>110</th>\n",
       "      <td>09/2022</td>\n",
       "      <td>2444.7</td>\n",
       "    </tr>\n",
       "    <tr>\n",
       "      <th>111</th>\n",
       "      <td>12/2022</td>\n",
       "      <td>2517.9</td>\n",
       "    </tr>\n",
       "    <tr>\n",
       "      <th>112</th>\n",
       "      <td>03/2023</td>\n",
       "      <td>2618.8</td>\n",
       "    </tr>\n",
       "  </tbody>\n",
       "</table>\n",
       "<p>87 rows × 2 columns</p>\n",
       "</div>"
      ],
      "text/plain": [
       "    Unnamed: 0 GDP: Resources: GDP at Market Price\n",
       "26     09/2001                                99.8\n",
       "27     12/2001                                93.4\n",
       "28     03/2002                                93.2\n",
       "29     06/2002                                92.5\n",
       "30     09/2002                               109.3\n",
       "..         ...                                 ...\n",
       "108    03/2022                              1877.4\n",
       "109    06/2022                              1948.6\n",
       "110    09/2022                              2444.7\n",
       "111    12/2022                              2517.9\n",
       "112    03/2023                              2618.8\n",
       "\n",
       "[87 rows x 2 columns]"
      ]
     },
     "execution_count": 45,
     "metadata": {},
     "output_type": "execute_result"
    }
   ],
   "source": [
    "data"
   ]
  },
  {
   "cell_type": "code",
   "execution_count": 46,
   "metadata": {},
   "outputs": [
    {
     "name": "stderr",
     "output_type": "stream",
     "text": [
      "C:\\Users\\MacTavish\\AppData\\Local\\Temp\\ipykernel_33376\\1376999920.py:1: SettingWithCopyWarning: \n",
      "A value is trying to be set on a copy of a slice from a DataFrame\n",
      "\n",
      "See the caveats in the documentation: https://pandas.pydata.org/pandas-docs/stable/user_guide/indexing.html#returning-a-view-versus-a-copy\n",
      "  data.rename(columns={\"Unnamed: 0\": \"Date\", \"GDP: Resources: GDP at Market Price\": \"GDP in mil Local\"}, inplace = True)\n"
     ]
    }
   ],
   "source": [
    "data.rename(columns={\"Unnamed: 0\": \"Date\", \"GDP: Resources: GDP at Market Price\": \"GDP in mil Local\"}, inplace = True)"
   ]
  },
  {
   "cell_type": "code",
   "execution_count": 47,
   "metadata": {},
   "outputs": [
    {
     "name": "stderr",
     "output_type": "stream",
     "text": [
      "C:\\Users\\MacTavish\\AppData\\Local\\Temp\\ipykernel_33376\\3934439621.py:1: SettingWithCopyWarning: \n",
      "A value is trying to be set on a copy of a slice from a DataFrame.\n",
      "Try using .loc[row_indexer,col_indexer] = value instead\n",
      "\n",
      "See the caveats in the documentation: https://pandas.pydata.org/pandas-docs/stable/user_guide/indexing.html#returning-a-view-versus-a-copy\n",
      "  data['Date'] = pd.to_datetime(data['Date']) + pd.tseries.offsets.MonthEnd(0)\n"
     ]
    }
   ],
   "source": [
    "data['Date'] = pd.to_datetime(data['Date']) + pd.tseries.offsets.MonthEnd(0)"
   ]
  },
  {
   "cell_type": "code",
   "execution_count": 48,
   "metadata": {},
   "outputs": [
    {
     "name": "stderr",
     "output_type": "stream",
     "text": [
      "C:\\Users\\MacTavish\\AppData\\Local\\Temp\\ipykernel_33376\\843212004.py:1: SettingWithCopyWarning: \n",
      "A value is trying to be set on a copy of a slice from a DataFrame.\n",
      "Try using .loc[row_indexer,col_indexer] = value instead\n",
      "\n",
      "See the caveats in the documentation: https://pandas.pydata.org/pandas-docs/stable/user_guide/indexing.html#returning-a-view-versus-a-copy\n",
      "  data['GDP in mil Local'] = data['GDP in mil Local'].astype(float)\n"
     ]
    }
   ],
   "source": [
    "data['GDP in mil Local'] = data['GDP in mil Local'].astype(float)"
   ]
  },
  {
   "cell_type": "code",
   "execution_count": 49,
   "metadata": {},
   "outputs": [
    {
     "data": {
      "text/html": [
       "<div>\n",
       "<style scoped>\n",
       "    .dataframe tbody tr th:only-of-type {\n",
       "        vertical-align: middle;\n",
       "    }\n",
       "\n",
       "    .dataframe tbody tr th {\n",
       "        vertical-align: top;\n",
       "    }\n",
       "\n",
       "    .dataframe thead th {\n",
       "        text-align: right;\n",
       "    }\n",
       "</style>\n",
       "<table border=\"1\" class=\"dataframe\">\n",
       "  <thead>\n",
       "    <tr style=\"text-align: right;\">\n",
       "      <th></th>\n",
       "      <th>Date</th>\n",
       "      <th>GDP in mil Local</th>\n",
       "    </tr>\n",
       "  </thead>\n",
       "  <tbody>\n",
       "    <tr>\n",
       "      <th>26</th>\n",
       "      <td>2001-09-30</td>\n",
       "      <td>99.8</td>\n",
       "    </tr>\n",
       "    <tr>\n",
       "      <th>27</th>\n",
       "      <td>2001-12-31</td>\n",
       "      <td>93.4</td>\n",
       "    </tr>\n",
       "    <tr>\n",
       "      <th>28</th>\n",
       "      <td>2002-03-31</td>\n",
       "      <td>93.2</td>\n",
       "    </tr>\n",
       "    <tr>\n",
       "      <th>29</th>\n",
       "      <td>2002-06-30</td>\n",
       "      <td>92.5</td>\n",
       "    </tr>\n",
       "    <tr>\n",
       "      <th>30</th>\n",
       "      <td>2002-09-30</td>\n",
       "      <td>109.3</td>\n",
       "    </tr>\n",
       "    <tr>\n",
       "      <th>...</th>\n",
       "      <td>...</td>\n",
       "      <td>...</td>\n",
       "    </tr>\n",
       "    <tr>\n",
       "      <th>108</th>\n",
       "      <td>2022-03-31</td>\n",
       "      <td>1877.4</td>\n",
       "    </tr>\n",
       "    <tr>\n",
       "      <th>109</th>\n",
       "      <td>2022-06-30</td>\n",
       "      <td>1948.6</td>\n",
       "    </tr>\n",
       "    <tr>\n",
       "      <th>110</th>\n",
       "      <td>2022-09-30</td>\n",
       "      <td>2444.7</td>\n",
       "    </tr>\n",
       "    <tr>\n",
       "      <th>111</th>\n",
       "      <td>2022-12-31</td>\n",
       "      <td>2517.9</td>\n",
       "    </tr>\n",
       "    <tr>\n",
       "      <th>112</th>\n",
       "      <td>2023-03-31</td>\n",
       "      <td>2618.8</td>\n",
       "    </tr>\n",
       "  </tbody>\n",
       "</table>\n",
       "<p>87 rows × 2 columns</p>\n",
       "</div>"
      ],
      "text/plain": [
       "          Date  GDP in mil Local\n",
       "26  2001-09-30              99.8\n",
       "27  2001-12-31              93.4\n",
       "28  2002-03-31              93.2\n",
       "29  2002-06-30              92.5\n",
       "30  2002-09-30             109.3\n",
       "..         ...               ...\n",
       "108 2022-03-31            1877.4\n",
       "109 2022-06-30            1948.6\n",
       "110 2022-09-30            2444.7\n",
       "111 2022-12-31            2517.9\n",
       "112 2023-03-31            2618.8\n",
       "\n",
       "[87 rows x 2 columns]"
      ]
     },
     "execution_count": 49,
     "metadata": {},
     "output_type": "execute_result"
    }
   ],
   "source": [
    "data"
   ]
  },
  {
   "cell_type": "code",
   "execution_count": 50,
   "metadata": {},
   "outputs": [
    {
     "data": {
      "text/plain": [
       "<Axes: xlabel='Date', ylabel='GDP in mil Local'>"
      ]
     },
     "execution_count": 50,
     "metadata": {},
     "output_type": "execute_result"
    },
    {
     "data": {
      "image/png": "[encoded data removed]",
      "text/plain": [
       "<Figure size 640x480 with 1 Axes>"
      ]
     },
     "metadata": {},
     "output_type": "display_data"
    }
   ],
   "source": [
    "sns.lineplot(x = data['Date'], y = data['GDP in mil Local'])"
   ]
  },
  {
   "cell_type": "code",
   "execution_count": 51,
   "metadata": {},
   "outputs": [],
   "source": [
    "f = sp.interpolate.CubicSpline(data['Date'], data['GDP in mil Local'], bc_type = 'natural')"
   ]
  },
  {
   "cell_type": "code",
   "execution_count": 62,
   "metadata": {},
   "outputs": [],
   "source": [
    "full = pd.date_range(\"2001/09\", \"2023/04\", freq = \"M\").to_series().reset_index(drop = True)"
   ]
  },
  {
   "cell_type": "code",
   "execution_count": 63,
   "metadata": {},
   "outputs": [],
   "source": [
    "GDPi = pd.Series(f(full))"
   ]
  },
  {
   "cell_type": "code",
   "execution_count": 64,
   "metadata": {},
   "outputs": [],
   "source": [
    "datai = pd.DataFrame({\"Date\": full, \"GDP in mil Local\": GDPi})"
   ]
  },
  {
   "cell_type": "code",
   "execution_count": 65,
   "metadata": {},
   "outputs": [],
   "source": [
    "datai['GDP in mil Local'] *= 1e3"
   ]
  },
  {
   "cell_type": "code",
   "execution_count": 66,
   "metadata": {},
   "outputs": [
    {
     "data": {
      "text/html": [
       "<div>\n",
       "<style scoped>\n",
       "    .dataframe tbody tr th:only-of-type {\n",
       "        vertical-align: middle;\n",
       "    }\n",
       "\n",
       "    .dataframe tbody tr th {\n",
       "        vertical-align: top;\n",
       "    }\n",
       "\n",
       "    .dataframe thead th {\n",
       "        text-align: right;\n",
       "    }\n",
       "</style>\n",
       "<table border=\"1\" class=\"dataframe\">\n",
       "  <thead>\n",
       "    <tr style=\"text-align: right;\">\n",
       "      <th></th>\n",
       "      <th>Date</th>\n",
       "      <th>GDP in mil Local</th>\n",
       "    </tr>\n",
       "  </thead>\n",
       "  <tbody>\n",
       "    <tr>\n",
       "      <th>0</th>\n",
       "      <td>2001-09-30</td>\n",
       "      <td>9.980000e+04</td>\n",
       "    </tr>\n",
       "    <tr>\n",
       "      <th>1</th>\n",
       "      <td>2001-10-31</td>\n",
       "      <td>9.699154e+04</td>\n",
       "    </tr>\n",
       "    <tr>\n",
       "      <th>2</th>\n",
       "      <td>2001-11-30</td>\n",
       "      <td>9.474558e+04</td>\n",
       "    </tr>\n",
       "    <tr>\n",
       "      <th>3</th>\n",
       "      <td>2001-12-31</td>\n",
       "      <td>9.340000e+04</td>\n",
       "    </tr>\n",
       "    <tr>\n",
       "      <th>4</th>\n",
       "      <td>2002-01-31</td>\n",
       "      <td>9.327488e+04</td>\n",
       "    </tr>\n",
       "    <tr>\n",
       "      <th>...</th>\n",
       "      <td>...</td>\n",
       "      <td>...</td>\n",
       "    </tr>\n",
       "    <tr>\n",
       "      <th>254</th>\n",
       "      <td>2022-11-30</td>\n",
       "      <td>2.521612e+06</td>\n",
       "    </tr>\n",
       "    <tr>\n",
       "      <th>255</th>\n",
       "      <td>2022-12-31</td>\n",
       "      <td>2.517900e+06</td>\n",
       "    </tr>\n",
       "    <tr>\n",
       "      <th>256</th>\n",
       "      <td>2023-01-31</td>\n",
       "      <td>2.536176e+06</td>\n",
       "    </tr>\n",
       "    <tr>\n",
       "      <th>257</th>\n",
       "      <td>2023-02-28</td>\n",
       "      <td>2.570664e+06</td>\n",
       "    </tr>\n",
       "    <tr>\n",
       "      <th>258</th>\n",
       "      <td>2023-03-31</td>\n",
       "      <td>2.618800e+06</td>\n",
       "    </tr>\n",
       "  </tbody>\n",
       "</table>\n",
       "<p>259 rows × 2 columns</p>\n",
       "</div>"
      ],
      "text/plain": [
       "          Date  GDP in mil Local\n",
       "0   2001-09-30      9.980000e+04\n",
       "1   2001-10-31      9.699154e+04\n",
       "2   2001-11-30      9.474558e+04\n",
       "3   2001-12-31      9.340000e+04\n",
       "4   2002-01-31      9.327488e+04\n",
       "..         ...               ...\n",
       "254 2022-11-30      2.521612e+06\n",
       "255 2022-12-31      2.517900e+06\n",
       "256 2023-01-31      2.536176e+06\n",
       "257 2023-02-28      2.570664e+06\n",
       "258 2023-03-31      2.618800e+06\n",
       "\n",
       "[259 rows x 2 columns]"
      ]
     },
     "execution_count": 66,
     "metadata": {},
     "output_type": "execute_result"
    }
   ],
   "source": [
    "datai"
   ]
  },
  {
   "cell_type": "code",
   "execution_count": 56,
   "metadata": {},
   "outputs": [
    {
     "data": {
      "text/plain": [
       "<Axes: xlabel='Date', ylabel='GDP in mil Local'>"
      ]
     },
     "execution_count": 56,
     "metadata": {},
     "output_type": "execute_result"
    },
    {
     "data": {
      "image/png": "[encoded data removed]",
      "text/plain": [
       "<Figure size 640x480 with 1 Axes>"
      ]
     },
     "metadata": {},
     "output_type": "display_data"
    }
   ],
   "source": [
    "sns.lineplot(x = datai['Date'], y = datai['GDP in mil Local'])"
   ]
  },
  {
   "cell_type": "code",
   "execution_count": 57,
   "metadata": {},
   "outputs": [],
   "source": [
    "datam = pd.merge(datai, exr, on = 'Date', how = 'left')"
   ]
  },
  {
   "cell_type": "code",
   "execution_count": 58,
   "metadata": {},
   "outputs": [
    {
     "data": {
      "text/html": [
       "<div>\n",
       "<style scoped>\n",
       "    .dataframe tbody tr th:only-of-type {\n",
       "        vertical-align: middle;\n",
       "    }\n",
       "\n",
       "    .dataframe tbody tr th {\n",
       "        vertical-align: top;\n",
       "    }\n",
       "\n",
       "    .dataframe thead th {\n",
       "        text-align: right;\n",
       "    }\n",
       "</style>\n",
       "<table border=\"1\" class=\"dataframe\">\n",
       "  <thead>\n",
       "    <tr style=\"text-align: right;\">\n",
       "      <th></th>\n",
       "      <th>Date</th>\n",
       "      <th>GDP in mil Local</th>\n",
       "      <th>US/Local</th>\n",
       "    </tr>\n",
       "  </thead>\n",
       "  <tbody>\n",
       "    <tr>\n",
       "      <th>0</th>\n",
       "      <td>2001-09-30</td>\n",
       "      <td>9.980000e+04</td>\n",
       "      <td>4.140000</td>\n",
       "    </tr>\n",
       "    <tr>\n",
       "      <th>1</th>\n",
       "      <td>2001-10-31</td>\n",
       "      <td>9.699154e+04</td>\n",
       "      <td>4.140000</td>\n",
       "    </tr>\n",
       "    <tr>\n",
       "      <th>2</th>\n",
       "      <td>2001-11-30</td>\n",
       "      <td>9.474558e+04</td>\n",
       "      <td>4.140000</td>\n",
       "    </tr>\n",
       "    <tr>\n",
       "      <th>3</th>\n",
       "      <td>2001-12-31</td>\n",
       "      <td>9.340000e+04</td>\n",
       "      <td>4.355000</td>\n",
       "    </tr>\n",
       "    <tr>\n",
       "      <th>4</th>\n",
       "      <td>2002-01-31</td>\n",
       "      <td>9.327488e+04</td>\n",
       "      <td>4.496000</td>\n",
       "    </tr>\n",
       "    <tr>\n",
       "      <th>...</th>\n",
       "      <td>...</td>\n",
       "      <td>...</td>\n",
       "      <td>...</td>\n",
       "    </tr>\n",
       "    <tr>\n",
       "      <th>254</th>\n",
       "      <td>2022-11-30</td>\n",
       "      <td>2.521612e+06</td>\n",
       "      <td>24.422364</td>\n",
       "    </tr>\n",
       "    <tr>\n",
       "      <th>255</th>\n",
       "      <td>2022-12-31</td>\n",
       "      <td>2.517900e+06</td>\n",
       "      <td>24.660455</td>\n",
       "    </tr>\n",
       "    <tr>\n",
       "      <th>256</th>\n",
       "      <td>2023-01-31</td>\n",
       "      <td>2.536176e+06</td>\n",
       "      <td>28.759262</td>\n",
       "    </tr>\n",
       "    <tr>\n",
       "      <th>257</th>\n",
       "      <td>2023-02-28</td>\n",
       "      <td>2.570664e+06</td>\n",
       "      <td>30.481627</td>\n",
       "    </tr>\n",
       "    <tr>\n",
       "      <th>258</th>\n",
       "      <td>2023-03-31</td>\n",
       "      <td>2.618800e+06</td>\n",
       "      <td>30.848855</td>\n",
       "    </tr>\n",
       "  </tbody>\n",
       "</table>\n",
       "<p>259 rows × 3 columns</p>\n",
       "</div>"
      ],
      "text/plain": [
       "          Date  GDP in mil Local   US/Local\n",
       "0   2001-09-30      9.980000e+04   4.140000\n",
       "1   2001-10-31      9.699154e+04   4.140000\n",
       "2   2001-11-30      9.474558e+04   4.140000\n",
       "3   2001-12-31      9.340000e+04   4.355000\n",
       "4   2002-01-31      9.327488e+04   4.496000\n",
       "..         ...               ...        ...\n",
       "254 2022-11-30      2.521612e+06  24.422364\n",
       "255 2022-12-31      2.517900e+06  24.660455\n",
       "256 2023-01-31      2.536176e+06  28.759262\n",
       "257 2023-02-28      2.570664e+06  30.481627\n",
       "258 2023-03-31      2.618800e+06  30.848855\n",
       "\n",
       "[259 rows x 3 columns]"
      ]
     },
     "execution_count": 58,
     "metadata": {},
     "output_type": "execute_result"
    }
   ],
   "source": [
    "datam"
   ]
  },
  {
   "cell_type": "code",
   "execution_count": 60,
   "metadata": {},
   "outputs": [],
   "source": [
    "datam['GDP in mil USD'] = datam['GDP in mil Local'] / datam['US/Local']"
   ]
  },
  {
   "cell_type": "code",
   "execution_count": 61,
   "metadata": {},
   "outputs": [
    {
     "data": {
      "text/html": [
       "<div>\n",
       "<style scoped>\n",
       "    .dataframe tbody tr th:only-of-type {\n",
       "        vertical-align: middle;\n",
       "    }\n",
       "\n",
       "    .dataframe tbody tr th {\n",
       "        vertical-align: top;\n",
       "    }\n",
       "\n",
       "    .dataframe thead th {\n",
       "        text-align: right;\n",
       "    }\n",
       "</style>\n",
       "<table border=\"1\" class=\"dataframe\">\n",
       "  <thead>\n",
       "    <tr style=\"text-align: right;\">\n",
       "      <th></th>\n",
       "      <th>Date</th>\n",
       "      <th>GDP in mil Local</th>\n",
       "      <th>US/Local</th>\n",
       "      <th>GDP in mil USD</th>\n",
       "    </tr>\n",
       "  </thead>\n",
       "  <tbody>\n",
       "    <tr>\n",
       "      <th>0</th>\n",
       "      <td>2001-09-30</td>\n",
       "      <td>9.980000e+04</td>\n",
       "      <td>4.140000</td>\n",
       "      <td>24106.280193</td>\n",
       "    </tr>\n",
       "    <tr>\n",
       "      <th>1</th>\n",
       "      <td>2001-10-31</td>\n",
       "      <td>9.699154e+04</td>\n",
       "      <td>4.140000</td>\n",
       "      <td>23427.908929</td>\n",
       "    </tr>\n",
       "    <tr>\n",
       "      <th>2</th>\n",
       "      <td>2001-11-30</td>\n",
       "      <td>9.474558e+04</td>\n",
       "      <td>4.140000</td>\n",
       "      <td>22885.405274</td>\n",
       "    </tr>\n",
       "    <tr>\n",
       "      <th>3</th>\n",
       "      <td>2001-12-31</td>\n",
       "      <td>9.340000e+04</td>\n",
       "      <td>4.355000</td>\n",
       "      <td>21446.613088</td>\n",
       "    </tr>\n",
       "    <tr>\n",
       "      <th>4</th>\n",
       "      <td>2002-01-31</td>\n",
       "      <td>9.327488e+04</td>\n",
       "      <td>4.496000</td>\n",
       "      <td>20746.193255</td>\n",
       "    </tr>\n",
       "    <tr>\n",
       "      <th>...</th>\n",
       "      <td>...</td>\n",
       "      <td>...</td>\n",
       "      <td>...</td>\n",
       "      <td>...</td>\n",
       "    </tr>\n",
       "    <tr>\n",
       "      <th>254</th>\n",
       "      <td>2022-11-30</td>\n",
       "      <td>2.521612e+06</td>\n",
       "      <td>24.422364</td>\n",
       "      <td>103250.120579</td>\n",
       "    </tr>\n",
       "    <tr>\n",
       "      <th>255</th>\n",
       "      <td>2022-12-31</td>\n",
       "      <td>2.517900e+06</td>\n",
       "      <td>24.660455</td>\n",
       "      <td>102102.739974</td>\n",
       "    </tr>\n",
       "    <tr>\n",
       "      <th>256</th>\n",
       "      <td>2023-01-31</td>\n",
       "      <td>2.536176e+06</td>\n",
       "      <td>28.759262</td>\n",
       "      <td>88186.411593</td>\n",
       "    </tr>\n",
       "    <tr>\n",
       "      <th>257</th>\n",
       "      <td>2023-02-28</td>\n",
       "      <td>2.570664e+06</td>\n",
       "      <td>30.481627</td>\n",
       "      <td>84334.862416</td>\n",
       "    </tr>\n",
       "    <tr>\n",
       "      <th>258</th>\n",
       "      <td>2023-03-31</td>\n",
       "      <td>2.618800e+06</td>\n",
       "      <td>30.848855</td>\n",
       "      <td>84891.320543</td>\n",
       "    </tr>\n",
       "  </tbody>\n",
       "</table>\n",
       "<p>259 rows × 4 columns</p>\n",
       "</div>"
      ],
      "text/plain": [
       "          Date  GDP in mil Local   US/Local  GDP in mil USD\n",
       "0   2001-09-30      9.980000e+04   4.140000    24106.280193\n",
       "1   2001-10-31      9.699154e+04   4.140000    23427.908929\n",
       "2   2001-11-30      9.474558e+04   4.140000    22885.405274\n",
       "3   2001-12-31      9.340000e+04   4.355000    21446.613088\n",
       "4   2002-01-31      9.327488e+04   4.496000    20746.193255\n",
       "..         ...               ...        ...             ...\n",
       "254 2022-11-30      2.521612e+06  24.422364   103250.120579\n",
       "255 2022-12-31      2.517900e+06  24.660455   102102.739974\n",
       "256 2023-01-31      2.536176e+06  28.759262    88186.411593\n",
       "257 2023-02-28      2.570664e+06  30.481627    84334.862416\n",
       "258 2023-03-31      2.618800e+06  30.848855    84891.320543\n",
       "\n",
       "[259 rows x 4 columns]"
      ]
     },
     "execution_count": 61,
     "metadata": {},
     "output_type": "execute_result"
    }
   ],
   "source": [
    "datam"
   ]
  }
 ],
 "metadata": {
  "kernelspec": {
   "display_name": "idp",
   "language": "python",
   "name": "python3"
  },
  "language_info": {
   "codemirror_mode": {
    "name": "ipython",
    "version": 3
   },
   "file_extension": ".py",
   "mimetype": "text/x-python",
   "name": "python",
   "nbconvert_exporter": "python",
   "pygments_lexer": "ipython3",
   "version": "3.10.11"
  },
  "orig_nbformat": 4
 },
 "nbformat": 4,
 "nbformat_minor": 2
}
