{
 "cells": [
  {
   "cell_type": "code",
   "execution_count": 2,
   "metadata": {},
   "outputs": [
    {
     "name": "stderr",
     "output_type": "stream",
     "text": [
      "/Users/russell_a/opt/anaconda3/lib/python3.8/site-packages/pandas/core/computation/expressions.py:20: UserWarning: Pandas requires version '2.7.3' or newer of 'numexpr' (version '2.7.1' currently installed).\n",
      "  from pandas.core.computation.check import NUMEXPR_INSTALLED\n"
     ]
    }
   ],
   "source": [
    "import numpy as np\n",
    "import pandas as pd"
   ]
  },
  {
   "cell_type": "code",
   "execution_count": 12,
   "metadata": {},
   "outputs": [],
   "source": [
    "df_hungary_daily = pd.read_csv(\"Bank Lending Rate Daily Hungary.csv\", skiprows=26)\n",
    "df_hungary_daily = df_hungary_daily.rename(columns = {\"No. of Obs\":\"Date\", \"285\": \"Rate\"})"
   ]
  },
  {
   "cell_type": "code",
   "execution_count": 16,
   "metadata": {},
   "outputs": [],
   "source": [
    "df_hungary_monthly_avg = df_hungary_daily.groupby(pd.PeriodIndex(df_hungary_daily['Date'], freq=\"M\"))['Rate'].mean()\n",
    "df_hungary_monthly_avg.to_csv(\"Bank Lending Rate Month Avg Hungary.csv\")"
   ]
  },
  {
   "cell_type": "code",
   "execution_count": 38,
   "metadata": {},
   "outputs": [
    {
     "data": {
      "text/html": [
       "<div>\n",
       "<style scoped>\n",
       "    .dataframe tbody tr th:only-of-type {\n",
       "        vertical-align: middle;\n",
       "    }\n",
       "\n",
       "    .dataframe tbody tr th {\n",
       "        vertical-align: top;\n",
       "    }\n",
       "\n",
       "    .dataframe thead th {\n",
       "        text-align: right;\n",
       "    }\n",
       "</style>\n",
       "<table border=\"1\" class=\"dataframe\">\n",
       "  <thead>\n",
       "    <tr style=\"text-align: right;\">\n",
       "      <th></th>\n",
       "      <th>Date</th>\n",
       "      <th>Rate</th>\n",
       "    </tr>\n",
       "  </thead>\n",
       "  <tbody>\n",
       "    <tr>\n",
       "      <th>0</th>\n",
       "      <td>2023-09</td>\n",
       "      <td>16.166667</td>\n",
       "    </tr>\n",
       "    <tr>\n",
       "      <th>1</th>\n",
       "      <td>2023-08</td>\n",
       "      <td>17.435484</td>\n",
       "    </tr>\n",
       "    <tr>\n",
       "      <th>2</th>\n",
       "      <td>2023-07</td>\n",
       "      <td>18.306452</td>\n",
       "    </tr>\n",
       "    <tr>\n",
       "      <th>3</th>\n",
       "      <td>2023-06</td>\n",
       "      <td>19.166667</td>\n",
       "    </tr>\n",
       "    <tr>\n",
       "      <th>4</th>\n",
       "      <td>2023-05</td>\n",
       "      <td>20.241935</td>\n",
       "    </tr>\n",
       "    <tr>\n",
       "      <th>...</th>\n",
       "      <td>...</td>\n",
       "      <td>...</td>\n",
       "    </tr>\n",
       "    <tr>\n",
       "      <th>280</th>\n",
       "      <td>2000-05</td>\n",
       "      <td>13.000000</td>\n",
       "    </tr>\n",
       "    <tr>\n",
       "      <th>281</th>\n",
       "      <td>2000-04</td>\n",
       "      <td>13.200000</td>\n",
       "    </tr>\n",
       "    <tr>\n",
       "      <th>282</th>\n",
       "      <td>2000-03</td>\n",
       "      <td>13.604839</td>\n",
       "    </tr>\n",
       "    <tr>\n",
       "      <th>283</th>\n",
       "      <td>2000-02</td>\n",
       "      <td>14.025862</td>\n",
       "    </tr>\n",
       "    <tr>\n",
       "      <th>284</th>\n",
       "      <td>2000-01</td>\n",
       "      <td>15.169355</td>\n",
       "    </tr>\n",
       "  </tbody>\n",
       "</table>\n",
       "<p>285 rows × 2 columns</p>\n",
       "</div>"
      ],
      "text/plain": [
       "        Date       Rate\n",
       "0    2023-09  16.166667\n",
       "1    2023-08  17.435484\n",
       "2    2023-07  18.306452\n",
       "3    2023-06  19.166667\n",
       "4    2023-05  20.241935\n",
       "..       ...        ...\n",
       "280  2000-05  13.000000\n",
       "281  2000-04  13.200000\n",
       "282  2000-03  13.604839\n",
       "283  2000-02  14.025862\n",
       "284  2000-01  15.169355\n",
       "\n",
       "[285 rows x 2 columns]"
      ]
     },
     "execution_count": 38,
     "metadata": {},
     "output_type": "execute_result"
    }
   ],
   "source": [
    "df_hungary_monthly_avg = pd.read_csv(\"Bank Lending Rate Month Avg Hungary.csv\").sort_values(\"Date\", ascending=False).reset_index(drop = True)\n",
    "df_hungary_monthly_avg"
   ]
  },
  {
   "cell_type": "code",
   "execution_count": 35,
   "metadata": {},
   "outputs": [],
   "source": [
    "def mo12m_change(df):\n",
    "    # first column should be date, the second column should be rate\n",
    "    for i in range(len(df)-12):\n",
    "        df.loc[i, \"mo12m_change\"] = round(df.iloc[i,1] - df.iloc[i+12,1],2)\n",
    "    return df"
   ]
  },
  {
   "cell_type": "code",
   "execution_count": 41,
   "metadata": {},
   "outputs": [],
   "source": [
    "mo12m_change(df_hungary_monthly_avg)\n",
    "df_hungary_monthly_avg.to_csv(\"Bank Lending Rate mo12m change Hungary.csv\")"
   ]
  },
  {
   "cell_type": "code",
   "execution_count": 59,
   "metadata": {},
   "outputs": [],
   "source": [
    "df_Egypt_monthly = pd.read_csv(\"Bank Lending Rate Month Avg Egypt.csv\").iloc[26:,:]\n",
    "df_Egypt_monthly = df_Egypt_monthly.rename(columns = {\"Unnamed: 0\":\"Date\"}).sort_values(\"Date\", ascending=False).reset_index(drop= True)\n",
    "df_Egypt_monthly[\"Bank Lending Rate: Month Avg: Egypt\"] = df_Egypt_monthly[\"Bank Lending Rate: Month Avg: Egypt\"].astype(\"float\")\n",
    "df_Egypt_monthly = mo12m_change(df_Egypt_monthly)\n",
    "df_Egypt_monthly.to_csv(\"Bank Lending Rate mo12m change Egypt.csv\")"
   ]
  },
  {
   "cell_type": "code",
   "execution_count": null,
   "metadata": {},
   "outputs": [],
   "source": [
    "df_Poland_monthly = pd.read_csv(\"Bank Lending Rate Month Avg Poland.csv\").iloc[26:,:]\n",
    "df_Poland_monthly = df_Poland_monthly.rename(columns = {\"Unnamed: 0\":\"Date\"}).sort_values(\"Date\", ascending=False).reset_index(drop= True)\n",
    "df_Poland_monthly[\"Bank Lending Rate: Month Avg: Poland\"] = df_Poland_monthly[\"Bank Lending Rate: Month Avg: Poland\"].astype(\"float\")\n",
    "df_Poland_monthly = mo12m_change(df_Poland_monthly)\n",
    "df_Poland_monthly.to_csv(\"Bank Lending Rate mo12m change Poland.csv\")"
   ]
  },
  {
   "cell_type": "code",
   "execution_count": 61,
   "metadata": {},
   "outputs": [],
   "source": [
    "df_Nigeria_monthly = pd.read_csv(\"Bank Lending Rate Month Avg Nigeria.csv\").iloc[26:,:]\n",
    "df_Nigeria_monthly = df_Nigeria_monthly.rename(columns = {\"Unnamed: 0\":\"Date\"}).sort_values(\"Date\", ascending=False).reset_index(drop= True)\n",
    "df_Nigeria_monthly[\"Bank Lending Rate: Month Avg: Nigeria\"] = df_Nigeria_monthly[\"Bank Lending Rate: Month Avg: Nigeria\"].astype(\"float\")\n",
    "df_Nigeria_monthly = mo12m_change(df_Nigeria_monthly)\n",
    "df_Nigeria_monthly.to_csv(\"Bank Lending Rate mo12m change Nigeria.csv\")"
   ]
  },
  {
   "cell_type": "code",
   "execution_count": 62,
   "metadata": {},
   "outputs": [],
   "source": [
    "df_Romania_monthly = pd.read_csv(\"Bank Lending Rate Month Avg Romania.csv\").iloc[26:,:]\n",
    "df_Romania_monthly = df_Romania_monthly.rename(columns = {\"Unnamed: 0\":\"Date\"}).sort_values(\"Date\", ascending=False).reset_index(drop= True)\n",
    "df_Romania_monthly[\"Bank Lending Rate: Month Avg: Romania\"] = df_Romania_monthly[\"Bank Lending Rate: Month Avg: Romania\"].astype(\"float\")\n",
    "df_Romania_monthly = mo12m_change(df_Romania_monthly)\n",
    "df_Romania_monthly.to_csv(\"Bank Lending Rate mo12m change Romania.csv\")"
   ]
  }
 ],
 "metadata": {
  "kernelspec": {
   "display_name": "base",
   "language": "python",
   "name": "python3"
  },
  "language_info": {
   "codemirror_mode": {
    "name": "ipython",
    "version": 3
   },
   "file_extension": ".py",
   "mimetype": "text/x-python",
   "name": "python",
   "nbconvert_exporter": "python",
   "pygments_lexer": "ipython3",
   "version": "3.8.15"
  },
  "orig_nbformat": 4
 },
 "nbformat": 4,
 "nbformat_minor": 2
}
