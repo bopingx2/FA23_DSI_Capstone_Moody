{
 "cells": [
  {
   "cell_type": "code",
   "execution_count": 4,
   "metadata": {},
   "outputs": [],
   "source": [
    "import pandas as pd\n",
    "from pathlib import Path\n",
    "base_dir = str(Path().resolve().parents[1])"
   ]
  },
  {
   "cell_type": "code",
   "execution_count": 9,
   "metadata": {},
   "outputs": [],
   "source": [
    "for country in ['Egypt', 'Poland', 'Romania']:\n",
    "    us10_path = 'US_10yr_yield.csv'\n",
    "    us10 = pd.read_csv(us10_path)\n",
    "    us10 = us10[2:][['Ticker', 'Series Type']]\n",
    "    us10.rename(columns={'Ticker': 'Date', 'Series Type': 'ten_yr_us'}, inplace=True)\n",
    "    us10['Date'] = pd.to_datetime(us10['Date'])\n",
    "    us10['ten_yr_us'] = us10['ten_yr_us'].astype(float)\n",
    "\n",
    "    if country == 'Romania':\n",
    "        b10_path = base_dir + '\\\\Risk Premium\\\\Risk_Premium_' + country + '.csv'\n",
    "        b10_name = \"ten_yr_romania\"\n",
    "        b10 = pd.read_csv(b10_path)[[\"Date\", b10_name]]\n",
    "        b10['Date'] = pd.to_datetime(b10['Date']) + pd.tseries.offsets.MonthEnd(0)\n",
    "    else:\n",
    "        b10_path = base_dir + '\\\\Term Premium\\\\raw\\\\' + country + '_10yr_yield.csv'\n",
    "        b10 = pd.read_csv(b10_path)\n",
    "        b10 = b10[2:][['Ticker', 'Series Type']]\n",
    "        b10_name = 'ten_yr_' + country.lower()\n",
    "        b10.rename(columns={'Ticker': 'Date', 'Series Type': b10_name}, inplace=True)\n",
    "        b10['Date'] = pd.to_datetime(b10['Date']) + pd.tseries.offsets.MonthEnd(0)\n",
    "        b10[b10_name] = b10[b10_name].astype(float)\n",
    "\n",
    "    term = pd.merge(b10, us10, how='inner')\n",
    "    term['RiskPremium'] = term[b10_name] - term['ten_yr_us']\n",
    "    csv_path = 'Risk_Premium_' + country + '.csv'\n",
    "    term.to_csv(csv_path, index=False)\n",
    "    "
   ]
  }
 ],
 "metadata": {
  "kernelspec": {
   "display_name": "idp",
   "language": "python",
   "name": "python3"
  },
  "language_info": {
   "codemirror_mode": {
    "name": "ipython",
    "version": 3
   },
   "file_extension": ".py",
   "mimetype": "text/x-python",
   "name": "python",
   "nbconvert_exporter": "python",
   "pygments_lexer": "ipython3",
   "version": "3.10.11"
  },
  "orig_nbformat": 4
 },
 "nbformat": 4,
 "nbformat_minor": 2
}
