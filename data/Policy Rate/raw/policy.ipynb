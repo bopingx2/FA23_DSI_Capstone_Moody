{
 "cells": [
  {
   "cell_type": "code",
   "execution_count": 2,
   "metadata": {},
   "outputs": [],
   "source": [
    "import pandas as pd"
   ]
  },
  {
   "cell_type": "code",
   "execution_count": 3,
   "metadata": {},
   "outputs": [],
   "source": [
    "pd.set_option('display.max_row', 500)"
   ]
  },
  {
   "cell_type": "code",
   "execution_count": 4,
   "metadata": {},
   "outputs": [],
   "source": [
    "for country in ['Egypt', 'Poland']:\n",
    "\n",
    "    daily = pd.read_csv(country + ' Policy Rate Daily.csv')\n",
    "    daily['Date'] = pd.to_datetime(daily['Date'])\n",
    "    daily.dropna(inplace=True)\n",
    "    daily['DayDate'] = daily['Date'].dt.strftime(date_format='%d')\n",
    "    daily['MonDate'] = daily['Date'].dt.strftime(date_format='%Y-%m')\n",
    "    eop = pd.merge(daily.groupby('MonDate').agg({'DayDate': 'max'}).reset_index(), daily, on=['MonDate', 'DayDate'], how='left')[['Date', 'Policy Rate']]\n",
    "    eop['Date'] = eop['Date'].dt.strftime(date_format='%m/%Y')\n",
    "    \n",
    "    eop.to_csv(country + ' Policy Rate EOP.csv', index=False)"
   ]
  },
  {
   "cell_type": "code",
   "execution_count": 7,
   "metadata": {},
   "outputs": [],
   "source": [
    "for country in ['Egypt', 'Hungary', 'Nigeria', 'Poland', 'Romania']:\n",
    "\n",
    "    EOP_path = country + \" Policy Rate EOP.csv\"\n",
    "    eop = pd.read_csv(EOP_path)\n",
    "    eop['Date'] = pd.to_datetime(eop['Date']) + pd.tseries.offsets.MonthEnd(0)\n",
    "\n",
    "    csv_path = 'Policy_Rate_EOP_' + country + '.csv'\n",
    "    eop.to_csv(csv_path, index = False)"
   ]
  },
  {
   "cell_type": "code",
   "execution_count": 8,
   "metadata": {},
   "outputs": [],
   "source": [
    "for country in ['Egypt', 'Hungary', 'Nigeria', 'Poland', 'Romania']:\n",
    "\n",
    "    daily_path = country + \" Policy Rate Daily.csv\"\n",
    "    daily = pd.read_csv(daily_path)\n",
    "    daily['Date'] = pd.to_datetime(daily['Date'])\n",
    "    daily.dropna(inplace=True)\n",
    "    daily['MonDate'] = daily['Date'].dt.strftime(date_format='%Y-%m')\n",
    "    avg = daily.groupby('MonDate').agg({'Policy Rate': 'mean'}).reset_index()\n",
    "    avg.rename(columns={'MonDate': 'Date'}, inplace=True)\n",
    "    avg['Date'] = pd.to_datetime(avg['Date']) + pd.tseries.offsets.MonthEnd(0)\n",
    "\n",
    "    csv_path = 'Policy_Rate_AVG_' + country + '.csv'\n",
    "    avg.to_csv(csv_path, index = False)"
   ]
  }
 ],
 "metadata": {
  "kernelspec": {
   "display_name": "idp",
   "language": "python",
   "name": "python3"
  },
  "language_info": {
   "codemirror_mode": {
    "name": "ipython",
    "version": 3
   },
   "file_extension": ".py",
   "mimetype": "text/x-python",
   "name": "python",
   "nbconvert_exporter": "python",
   "pygments_lexer": "ipython3",
   "version": "3.10.11"
  },
  "orig_nbformat": 4
 },
 "nbformat": 4,
 "nbformat_minor": 2
}
