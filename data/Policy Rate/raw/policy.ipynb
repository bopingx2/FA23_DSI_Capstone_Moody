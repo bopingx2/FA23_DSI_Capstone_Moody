{
 "cells": [
  {
   "cell_type": "code",
   "execution_count": 1,
   "metadata": {},
   "outputs": [],
   "source": [
    "import pandas as pd"
   ]
  },
  {
   "cell_type": "code",
   "execution_count": 5,
   "metadata": {},
   "outputs": [],
   "source": [
    "fed = pd.read_csv('Federal Funds Rate EOP.csv')\n",
    "fed = fed.iloc[26:]\n",
    "fed.rename(columns={'Unnamed: 0': 'Date', 'Policy Rate: Month End: Effective Federal Funds Rate': 'Federal Funds Rate'}, inplace = True)\n",
    "fed['Date'] = pd.to_datetime(fed['Date']) + pd.tseries.offsets.MonthEnd(0)\n",
    "fed['Federal Funds Rate'] = fed['Federal Funds Rate'].astype(float)"
   ]
  },
  {
   "cell_type": "code",
   "execution_count": 8,
   "metadata": {},
   "outputs": [],
   "source": [
    "for country in ['Egypt', 'Hungary', 'Nigeria', 'Poland', 'Romania']:\n",
    "\n",
    "    if country == 'Egypt':\n",
    "        policy_path = country + ' Discount Rate EOP.csv'\n",
    "    else:\n",
    "        policy_path = country + ' Policy Rate EOP.csv'\n",
    "\n",
    "    policy = pd.read_csv(policy_path)\n",
    "    policy = policy.iloc[26:]\n",
    "    policy_name = policy.columns.to_list()[1]\n",
    "    policy.rename(columns={'Unnamed: 0': 'Date', policy_name: 'Policy Rate'}, inplace = True)\n",
    "    policy['Date'] = pd.to_datetime(policy['Date']) + pd.tseries.offsets.MonthEnd(0)\n",
    "    policy['Policy Rate'] = policy['Policy Rate'].astype(float)\n",
    "\n",
    "    data = pd.merge(policy, fed, on = 'Date', how = 'inner')\n",
    "    data['Rate Difference'] = data['Policy Rate'] - data['Federal Funds Rate']\n",
    "\n",
    "    csv_path = 'Policy_Fed_Rate_diff_' + country + '.csv'\n",
    "    data.to_csv(csv_path, index = False)"
   ]
  }
 ],
 "metadata": {
  "kernelspec": {
   "display_name": "idp",
   "language": "python",
   "name": "python3"
  },
  "language_info": {
   "codemirror_mode": {
    "name": "ipython",
    "version": 3
   },
   "file_extension": ".py",
   "mimetype": "text/x-python",
   "name": "python",
   "nbconvert_exporter": "python",
   "pygments_lexer": "ipython3",
   "version": "3.10.11"
  },
  "orig_nbformat": 4
 },
 "nbformat": 4,
 "nbformat_minor": 2
}
