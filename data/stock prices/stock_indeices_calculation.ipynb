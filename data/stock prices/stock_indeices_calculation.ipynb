{
 "cells": [
  {
   "cell_type": "code",
   "execution_count": 31,
   "metadata": {},
   "outputs": [],
   "source": [
    "import pandas as pd\n",
    "import numpy as np"
   ]
  },
  {
   "cell_type": "code",
   "execution_count": 32,
   "metadata": {},
   "outputs": [],
   "source": [
    "df_name_list = [\"BET\", \"BUX\", \"EGX30\", \"NGXINDX\", \"Warsaw Stock Exchange WIG Index\"]"
   ]
  },
  {
   "cell_type": "code",
   "execution_count": 33,
   "metadata": {},
   "outputs": [],
   "source": [
    "for name in df_name_list:\n",
    "    df_daily = pd.read_excel(name + \" daily prices.xlsx\")\n",
    "    df_daily[\"Date\"] = df_daily[\"Date\"].astype(\"datetime64[D]\")\n",
    "\n",
    "    last_trade_date = []\n",
    "    O_Date = df_daily.loc[0, \"Date\"]\n",
    "    Price = df_daily.loc[0, \"Last Price\"]\n",
    "    last_trade_date.append((O_Date.date(), Price))\n",
    "    for i in range(len(df_daily)):\n",
    "        Date = df_daily.loc[i, \"Date\"]\n",
    "        Price = df_daily.loc[i, \"Last Price\"]\n",
    "        if Date.month != O_Date.month or Date.year != O_Date.year:\n",
    "            O_Date = Date\n",
    "            last_trade_date.append((O_Date.date(), Price))\n",
    "    \n",
    "    temp1, temp2 = zip(*last_trade_date)\n",
    "    df_monthly = pd.DataFrame({\"Date\": temp1, \"Last_Price\":temp2})\n",
    "\n",
    "    df_mom_change = df_monthly.copy()\n",
    "    for i in range(len(df_mom_change)-1):\n",
    "        df_mom_change.loc[i, \"mom%change\"] = (df_mom_change.loc[i, \"Last_Price\"] - df_mom_change.loc[i+1, \"Last_Price\"]) / df_mom_change.loc[i+1, \"Last_Price\"] * 100\n",
    "        \n",
    "    df_mo24mma_change = df_monthly.copy()\n",
    "    df_mo24mma_change = df_mo24mma_change.sort_values(\"Date\")\n",
    "    df_mo24mma_change[\"24mma\"] = df_mo24mma_change[\"Last_Price\"].rolling(24).mean()\n",
    "    df_mo24mma_change = df_mo24mma_change.sort_values(\"Date\", ascending=False)\n",
    "    for i in range(len(df_mo24mma_change)-24):\n",
    "        df_mo24mma_change.loc[i, \"mo24mma%change\"] = df_mo24mma_change.loc[i, \"Last_Price\"]/ df_mo24mma_change.loc[i+1, \"24mma\"] \n",
    "\n",
    "    df_Volatility = df_daily[[\"Date\", \"Last Price\"]]\n",
    "    df_Volatility = df_Volatility.sort_values(\"Date\")\n",
    "    df_Volatility[\"20 days average\"] = df_Volatility[\"Last Price\"].rolling(20).mean()\n",
    "    df_Volatility[\"Square of Difference\"] = np.square(df_Volatility[\"Last Price\"] - df_Volatility[\"20 days average\"])\n",
    "    df_Volatility[\"Square of Difference 20 days average\"] = df_Volatility[\"Square of Difference\"].rolling(20).mean()\n",
    "    df_Volatility[\"Volatility\"] = np.sqrt(df_Volatility[\"Square of Difference 20 days average\"])\n",
    "    df_Volatility = df_Volatility.sort_values(\"Date\", ascending = False)\n",
    "\n",
    "    df_monthly_Volatility = df_Volatility.groupby(pd.PeriodIndex(df_Volatility['Date'], freq=\"M\"))['Volatility'].mean()\n",
    "\n",
    "    \n",
    "    df_mom_change.to_csv(name + \"_mom%change.csv\")\n",
    "    df_mo24mma_change.to_csv(name + \"_mo24mma_change.csv\")\n",
    "    df_Volatility.to_csv(name + \"_Volatility.csv\")\n",
    "    df_monthly_Volatility.to_csv(name + \"monthly_Volatility.csv\")\n"
   ]
  },
  {
   "cell_type": "code",
   "execution_count": 34,
   "metadata": {},
   "outputs": [
    {
     "data": {
      "text/plain": [
       "Date\n",
       "2000-12            NaN\n",
       "2001-01            NaN\n",
       "2001-02     460.118264\n",
       "2001-03     896.558353\n",
       "2001-04     481.096630\n",
       "              ...     \n",
       "2023-06    1464.486301\n",
       "2023-07    1659.624418\n",
       "2023-08    2007.966817\n",
       "2023-09    1499.400729\n",
       "2023-10    1474.624715\n",
       "Freq: M, Name: Volatility, Length: 275, dtype: float64"
      ]
     },
     "execution_count": 34,
     "metadata": {},
     "output_type": "execute_result"
    }
   ],
   "source": [
    "df1 = pd.read_csv(\"Warsaw Stock Exchange WIG Index_Volatility.csv\")\n",
    "df1.groupby(pd.PeriodIndex(df1['Date'], freq=\"M\"))['Volatility'].mean()\n"
   ]
  }
 ],
 "metadata": {
  "kernelspec": {
   "display_name": "base",
   "language": "python",
   "name": "python3"
  },
  "language_info": {
   "codemirror_mode": {
    "name": "ipython",
    "version": 3
   },
   "file_extension": ".py",
   "mimetype": "text/x-python",
   "name": "python",
   "nbconvert_exporter": "python",
   "pygments_lexer": "ipython3",
   "version": "3.8.15"
  },
  "orig_nbformat": 4
 },
 "nbformat": 4,
 "nbformat_minor": 2
}
