{
 "cells": [
  {
   "cell_type": "code",
   "execution_count": 2,
   "metadata": {},
   "outputs": [
    {
     "name": "stderr",
     "output_type": "stream",
     "text": [
      "/Users/russell_a/opt/anaconda3/lib/python3.8/site-packages/pandas/core/computation/expressions.py:20: UserWarning: Pandas requires version '2.7.3' or newer of 'numexpr' (version '2.7.1' currently installed).\n",
      "  from pandas.core.computation.check import NUMEXPR_INSTALLED\n"
     ]
    }
   ],
   "source": [
    "import pandas as pd\n",
    "import numpy as np"
   ]
  },
  {
   "cell_type": "code",
   "execution_count": 3,
   "metadata": {},
   "outputs": [],
   "source": [
    "# df_name_list = [\"BET\", \"BUX\", \"EGX30\", \"NGXINDX\", \"Warsaw Stock Exchange WIG Index\"]\n",
    "df_name_list = [\"Warsaw Stock Exchange WIG Index\"]"
   ]
  },
  {
   "cell_type": "code",
   "execution_count": 4,
   "metadata": {},
   "outputs": [],
   "source": [
    "for name in df_name_list:\n",
    "    df_daily = pd.read_excel(name + \" daily prices.xlsx\")\n",
    "    df_daily[\"Date\"] = df_daily[\"Date\"].astype(\"datetime64[D]\")\n",
    "\n",
    "    last_trade_date = []\n",
    "    O_Date = df_daily.loc[0, \"Date\"]\n",
    "    Price = df_daily.loc[0, \"Last Price\"]\n",
    "    last_trade_date.append((O_Date.date(), Price))\n",
    "    for i in range(len(df_daily)):\n",
    "        Date = df_daily.loc[i, \"Date\"]\n",
    "        Price = df_daily.loc[i, \"Last Price\"]\n",
    "        if Date.month != O_Date.month or Date.year != O_Date.year:\n",
    "            O_Date = Date\n",
    "            last_trade_date.append((O_Date.date(), Price))\n",
    "    \n",
    "    temp1, temp2 = zip(*last_trade_date)\n",
    "    df_monthly = pd.DataFrame({\"Date\": temp1, \"Last_Price\":temp2})\n",
    "\n",
    "    df_mom_change = df_monthly.copy()\n",
    "    for i in range(len(df_mom_change)-1):\n",
    "        df_mom_change.loc[i, \"mom%change\"] = (df_mom_change.loc[i, \"Last_Price\"] - df_mom_change.loc[i+1, \"Last_Price\"]) / df_mom_change.loc[i+1, \"Last_Price\"] * 100\n",
    "        \n",
    "    df_mo24mma_change = df_monthly.copy()\n",
    "    df_mo24mma_change = df_mo24mma_change.sort_values(\"Date\")\n",
    "    df_mo24mma_change[\"24mma\"] = df_mo24mma_change[\"Last_Price\"].rolling(24).mean()\n",
    "    df_mo24mma_change = df_mo24mma_change.sort_values(\"Date\", ascending=False)\n",
    "    for i in range(len(df_mo24mma_change)-24):\n",
    "        df_mo24mma_change.loc[i, \"mo24mma%change\"] = df_mo24mma_change.loc[i, \"Last_Price\"]/ df_mo24mma_change.loc[i+1, \"24mma\"] \n",
    "\n",
    "    df_Volatility = df_daily[[\"Date\", \"Last Price\"]].dropna()\n",
    "    df_Volatility = df_Volatility.sort_values(\"Date\")\n",
    "    df_Volatility[\"20 days average\"] = df_Volatility[\"Last Price\"].rolling(20).mean()\n",
    "    df_Volatility[\"Square of Difference\"] = np.square(df_Volatility[\"Last Price\"] - df_Volatility[\"20 days average\"])\n",
    "    df_Volatility[\"Square of Difference 20 days average\"] = df_Volatility[\"Square of Difference\"].rolling(20).mean()\n",
    "    df_Volatility[\"Volatility\"] = np.sqrt(df_Volatility[\"Square of Difference 20 days average\"])\n",
    "    df_Volatility = df_Volatility.sort_values(\"Date\", ascending = False)\n",
    "    \n",
    "    # df_mom_change.to_csv(name + \"_mom%change.csv\")\n",
    "    # df_mo24mma_change.to_csv(name + \"_mo24mma_change.csv\")\n",
    "    df_Volatility.to_csv(name + \"_Volatility.csv\")\n",
    "    # df_monthly_Volatility.to_csv(name + \"monthly_Volatility.csv\")\n"
   ]
  },
  {
   "cell_type": "code",
   "execution_count": 8,
   "metadata": {},
   "outputs": [],
   "source": [
    "df1 = pd.read_csv(\"Warsaw Stock Exchange WIG Index_Volatility.csv\")\n",
    "df1.groupby(pd.PeriodIndex(df1['Date'], freq=\"M\"))['Volatility'].mean().to_csv(\"temp1.csv\")\n",
    "\n",
    "\n",
    "\n"
   ]
  }
 ],
 "metadata": {
  "kernelspec": {
   "display_name": "base",
   "language": "python",
   "name": "python3"
  },
  "language_info": {
   "codemirror_mode": {
    "name": "ipython",
    "version": 3
   },
   "file_extension": ".py",
   "mimetype": "text/x-python",
   "name": "python",
   "nbconvert_exporter": "python",
   "pygments_lexer": "ipython3",
   "version": "3.8.15"
  },
  "orig_nbformat": 4
 },
 "nbformat": 4,
 "nbformat_minor": 2
}
