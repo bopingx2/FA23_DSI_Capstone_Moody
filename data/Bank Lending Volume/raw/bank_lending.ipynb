{
 "cells": [
  {
   "cell_type": "code",
   "execution_count": 6,
   "metadata": {},
   "outputs": [],
   "source": [
    "import pandas as pd\n",
    "import scipy as sp\n",
    "import numpy as np\n",
    "import seaborn as sns"
   ]
  },
  {
   "cell_type": "code",
   "execution_count": 5,
   "metadata": {},
   "outputs": [],
   "source": [
    "for country in ['Egypt', 'Poland', 'Romania']:\n",
    "    lend_path = 'Total Loans YoY Monthly ' + country + '.csv'\n",
    "    lend = pd.read_csv(lend_path)\n",
    "    lend = lend.iloc[26:]\n",
    "    lend_name = 'Total Loans: YoY: Monthly: ' + country\n",
    "    lend.rename(columns={'Unnamed: 0': 'Date', lend_name: 'Bank Lending yryr%'}, inplace = True)\n",
    "    lend['Date'] = pd.to_datetime(lend['Date']) + pd.tseries.offsets.MonthEnd(0)\n",
    "    lend['Bank Lending yryr%'] = lend['Bank Lending yryr%'].astype(float)\n",
    "\n",
    "    csv_path = 'Bank_Lending_yryr%_' + country + '.csv'\n",
    "    lend.to_csv(csv_path, index = False)"
   ]
  },
  {
   "cell_type": "code",
   "execution_count": 36,
   "metadata": {},
   "outputs": [],
   "source": [
    "lend_path = 'Total Loans YoY Quarterly Hungary.csv'\n",
    "lend = pd.read_csv(lend_path)\n",
    "lend = lend.iloc[32:]\n",
    "lend_name = 'Total Loans: YoY: Quarterly: Hungary'\n",
    "lend.rename(columns={'Unnamed: 0': 'Date', lend_name: 'Bank Lending Quarterly yryr%'}, inplace = True)\n",
    "lend['Date'] = pd.to_datetime(lend['Date']) + pd.tseries.offsets.MonthEnd(0)\n",
    "lend['Bank Lending Quarterly yryr%'] = lend['Bank Lending Quarterly yryr%'].astype(float)\n",
    "lend = lend[lend.index.values % 3 == 2]\n",
    "f = sp.interpolate.CubicSpline(lend['Date'], lend['Bank Lending Quarterly yryr%'], bc_type = 'natural')\n",
    "start = '2007-10'\n",
    "end = lend['Date'].iloc[-1] + pd.DateOffset(months = 1)\n",
    "full = pd.date_range(start, end, freq = \"M\").to_series().reset_index(drop = True)\n",
    "lendi = pd.Series(f(full))\n",
    "datai = pd.DataFrame({\"Date\": full, \"Bank Lending yryr%\": lendi})\n",
    "\n",
    "datam = pd.merge(datai, lend, on = 'Date', how = 'left')[['Date', 'Bank Lending yryr%']]\n",
    "csv_path = 'Bank_Lending_yryr%_Hungary.csv'\n",
    "datam.to_csv(csv_path, index = False)\n"
   ]
  },
  {
   "cell_type": "code",
   "execution_count": 30,
   "metadata": {},
   "outputs": [],
   "source": [
    "for country in ['Egypt', 'Hungary', 'Romania', 'Poland']:\n",
    "    cpi_path = 'Consumer Price Index YoY Monthly ' + country + '.csv'\n",
    "    cpi = pd.read_csv(cpi_path)\n",
    "    cpi = cpi.iloc[26:]\n",
    "    cpi_name = 'Consumer Price Index: YoY: Monthly: ' + country\n",
    "    cpi.rename(columns={'Unnamed: 0': 'Date', cpi_name: 'CPI yryrl'}, inplace = True)\n",
    "    cpi['Date'] = pd.to_datetime(cpi['Date']) + pd.tseries.offsets.MonthEnd(0)\n",
    "    cpi['CPI yryrl'] = cpi['CPI yryrl'].astype(float)\n",
    "    cpi['CPI yryrl'] = np.log(cpi['CPI yryrl'] / 100 + 1) * 100\n",
    "\n",
    "    csv_path = 'CPI_yryrl_' + country + '.csv'\n",
    "    cpi.to_csv(csv_path, index = False)"
   ]
  },
  {
   "cell_type": "code",
   "execution_count": 37,
   "metadata": {},
   "outputs": [],
   "source": [
    "for country in ['Egypt', 'Hungary', 'Romania', 'Poland']:\n",
    "    cpi_path = 'CPI_yryrl_' + country + '.csv'\n",
    "    cpi = pd.read_csv(cpi_path)\n",
    "    lend_path = 'Bank_Lending_yryr%_' + country + '.csv'\n",
    "    lend = pd.read_csv(lend_path)\n",
    "    data = pd.merge(cpi, lend, on='Date', how='inner')\n",
    "    data['CPI adjusted Bank Lending'] = data['CPI yryrl'] - data['Bank Lending yryr%']\n",
    "    csv_path = 'CPI_Bank_Lending_yryr%_' + country + '.csv'\n",
    "    data.to_csv(csv_path, index = False)"
   ]
  }
 ],
 "metadata": {
  "kernelspec": {
   "display_name": "idp",
   "language": "python",
   "name": "python3"
  },
  "language_info": {
   "codemirror_mode": {
    "name": "ipython",
    "version": 3
   },
   "file_extension": ".py",
   "mimetype": "text/x-python",
   "name": "python",
   "nbconvert_exporter": "python",
   "pygments_lexer": "ipython3",
   "version": "3.10.11"
  },
  "orig_nbformat": 4
 },
 "nbformat": 4,
 "nbformat_minor": 2
}
