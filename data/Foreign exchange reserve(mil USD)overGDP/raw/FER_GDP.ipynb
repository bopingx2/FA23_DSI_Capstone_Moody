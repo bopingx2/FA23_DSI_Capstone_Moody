{
 "cells": [
  {
   "cell_type": "code",
   "execution_count": 2,
   "metadata": {},
   "outputs": [],
   "source": [
    "import pandas as pd"
   ]
  },
  {
   "cell_type": "code",
   "execution_count": 1,
   "metadata": {},
   "outputs": [],
   "source": [
    "from pathlib import Path\n",
    "parent_dir = str(Path().resolve().parents[1])"
   ]
  },
  {
   "cell_type": "code",
   "execution_count": 3,
   "metadata": {},
   "outputs": [
    {
     "data": {
      "text/plain": [
       "'C:\\\\Users\\\\MacTavish\\\\Documents\\\\Capstone\\\\FA23_DSI_Capstone_Moody'"
      ]
     },
     "execution_count": 3,
     "metadata": {},
     "output_type": "execute_result"
    }
   ],
   "source": [
    "parent_dir"
   ]
  },
  {
   "cell_type": "code",
   "execution_count": 10,
   "metadata": {},
   "outputs": [],
   "source": [
    "for country in ['Egypt', 'Hungary', 'Nigeria', 'Poland', 'Romania']:\n",
    "    \n",
    "    gdp_path = parent_dir + '\\\\data\\\\GDP\\\\GDP_in_mil_USD_' + country + '.csv'\n",
    "    gdp = pd.read_csv(gdp_path)\n",
    "    gdp = gdp[['Date', 'GDP in mil USD']]\n",
    "    gdp['Date'] = pd.to_datetime(gdp['Date'])\n",
    "\n",
    "    fer_path = parent_dir + '\\\\data\\\\Foreign exchange reserve\\\\FER_in_mil_USD_' + country + '.csv'\n",
    "    fer = pd.read_csv(fer_path)\n",
    "    fer['Date'] = pd.to_datetime(fer['Date'])\n",
    "\n",
    "    data = pd.merge(fer, gdp, on = 'Date', how = 'inner')\n",
    "    data['FER/GDP'] = data['Foreign Exchange Reserves USD mn'] / data['GDP in mil USD']\n",
    "    csv_path = 'FER_GDP_ratio_' + country + '.csv'\n",
    "    data.to_csv(csv_path, index = False)"
   ]
  }
 ],
 "metadata": {
  "kernelspec": {
   "display_name": "idp",
   "language": "python",
   "name": "python3"
  },
  "language_info": {
   "codemirror_mode": {
    "name": "ipython",
    "version": 3
   },
   "file_extension": ".py",
   "mimetype": "text/x-python",
   "name": "python",
   "nbconvert_exporter": "python",
   "pygments_lexer": "ipython3",
   "version": "3.10.11"
  },
  "orig_nbformat": 4
 },
 "nbformat": 4,
 "nbformat_minor": 2
}
