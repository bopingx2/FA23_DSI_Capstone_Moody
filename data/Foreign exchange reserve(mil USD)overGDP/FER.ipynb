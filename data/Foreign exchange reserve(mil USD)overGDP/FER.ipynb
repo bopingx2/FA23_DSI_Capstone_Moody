{
 "cells": [
  {
   "cell_type": "code",
   "execution_count": 1,
   "metadata": {},
   "outputs": [],
   "source": [
    "import pandas as pd"
   ]
  },
  {
   "cell_type": "code",
   "execution_count": 7,
   "metadata": {},
   "outputs": [],
   "source": [
    "for country in ['Egypt', 'Hungary', 'Nigeria', 'Poland', 'Romania']:\n",
    "    \n",
    "    gdp_path = 'GDP_in_mil_USD_' + country + '.csv'\n",
    "    gdp = pd.read_csv(gdp_path)\n",
    "    if country == 'Egypt' or country == 'Nigeria':\n",
    "        gdp = gdp[['Date', 'GDP in mil USD']]\n",
    "    else:\n",
    "        gdp = gdp[['Date', 'GDP in mil Local']]\n",
    "    gdp['Date'] = pd.to_datetime(gdp['Date'])\n",
    "\n",
    "    fer_path = country + '_monthly.csv'\n",
    "    fer = pd.read_csv(fer_path)\n",
    "    fer = fer[['Date', 'Reserves']]\n",
    "    fer['Date'] = pd.to_datetime(fer['Date'])\n",
    "\n",
    "    \n",
    "    data = pd.merge(fer, gdp, on = 'Date', how = 'inner')\n",
    "    if country == 'Egypt' or country == 'Nigeria':\n",
    "        data['FER/GDP'] = data['Reserves'] / data['GDP in mil USD']\n",
    "    else:\n",
    "        data['FER/GDP'] = data['Reserves'] / data['GDP in mil Local']\n",
    "    csv_path = country + '_FER_GDP_ratio.csv'\n",
    "    data.to_csv(csv_path, index = False)"
   ]
  }
 ],
 "metadata": {
  "kernelspec": {
   "display_name": "idp",
   "language": "python",
   "name": "python3"
  },
  "language_info": {
   "codemirror_mode": {
    "name": "ipython",
    "version": 3
   },
   "file_extension": ".py",
   "mimetype": "text/x-python",
   "name": "python",
   "nbconvert_exporter": "python",
   "pygments_lexer": "ipython3",
   "version": "3.10.11"
  },
  "orig_nbformat": 4
 },
 "nbformat": 4,
 "nbformat_minor": 2
}
